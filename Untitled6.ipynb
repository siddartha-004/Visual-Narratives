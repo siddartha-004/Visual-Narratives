{
  "nbformat": 4,
  "nbformat_minor": 0,
  "metadata": {
    "colab": {
      "provenance": [],
      "authorship_tag": "ABX9TyOaV2lu2SifWWFhysVK95lB",
      "include_colab_link": true
    },
    "kernelspec": {
      "name": "python3",
      "display_name": "Python 3"
    },
    "language_info": {
      "name": "python"
    }
  },
  "cells": [
    {
      "cell_type": "markdown",
      "metadata": {
        "id": "view-in-github",
        "colab_type": "text"
      },
      "source": [
        "<a href=\"https://colab.research.google.com/github/siddartha-004/Visual-Narratives/blob/beside/Untitled6.ipynb\" target=\"_parent\"><img src=\"https://colab.research.google.com/assets/colab-badge.svg\" alt=\"Open In Colab\"/></a>"
      ]
    },
    {
      "cell_type": "code",
      "execution_count": 38,
      "metadata": {
        "id": "bzshgv9z7MCk"
      },
      "outputs": [],
      "source": [
        "import re\n",
        "import time\n",
        "import pandas as pd\n",
        "import random\n",
        "from transformers import pipeline, set_seed\n",
        "from grammarbot import GrammarBotClient\n",
        "from textblob import TextBlob"
      ]
    },
    {
      "cell_type": "code",
      "source": [
        "!pip install grammarbot"
      ],
      "metadata": {
        "colab": {
          "base_uri": "https://localhost:8080/"
        },
        "id": "X9UaF4vD-DTS",
        "outputId": "eff24fb3-4f3c-46a6-d4e9-fda7b7f5c33f"
      },
      "execution_count": 39,
      "outputs": [
        {
          "output_type": "stream",
          "name": "stdout",
          "text": [
            "Requirement already satisfied: grammarbot in /usr/local/lib/python3.10/dist-packages (0.2.0)\n",
            "Requirement already satisfied: requests in /usr/local/lib/python3.10/dist-packages (from grammarbot) (2.31.0)\n",
            "Requirement already satisfied: charset-normalizer<4,>=2 in /usr/local/lib/python3.10/dist-packages (from requests->grammarbot) (3.3.2)\n",
            "Requirement already satisfied: idna<4,>=2.5 in /usr/local/lib/python3.10/dist-packages (from requests->grammarbot) (3.7)\n",
            "Requirement already satisfied: urllib3<3,>=1.21.1 in /usr/local/lib/python3.10/dist-packages (from requests->grammarbot) (2.0.7)\n",
            "Requirement already satisfied: certifi>=2017.4.17 in /usr/local/lib/python3.10/dist-packages (from requests->grammarbot) (2024.2.2)\n"
          ]
        }
      ]
    },
    {
      "cell_type": "code",
      "source": [
        "client = GrammarBotClient()"
      ],
      "metadata": {
        "id": "0hJKFKtc-JEs"
      },
      "execution_count": 40,
      "outputs": []
    },
    {
      "cell_type": "code",
      "source": [
        "\n",
        "def load_model():\n",
        "    '''\n",
        "    Loads and returns a pre-trained GPT-2 text-generator model (https://huggingface.co/gpt2)\n",
        "\n",
        "    Returns\n",
        "    -------\n",
        "    model : transformers.pipelines.TextGenerationPipeline\n",
        "        The pre-trained GPT-2 model\n",
        "    '''\n",
        "    model = pipeline('text-generation', model='gpt2')\n",
        "    set_seed(42)\n",
        "    return model"
      ],
      "metadata": {
        "id": "7L973HRB7iCT"
      },
      "execution_count": 41,
      "outputs": []
    },
    {
      "cell_type": "code",
      "source": [
        "def generate_story(input_text, model, max_length=150, use_narrative_hook=True):\n",
        "    '''\n",
        "    Returns a story generated using\n",
        "    (i) a pre-trained GPT-2 model, and\n",
        "    (ii) the input text.\n",
        "\n",
        "    The input text is automatically embellished with a narrative hook incorporated as the opening line.\n",
        "\n",
        "    The length of generated paragraph may be capped at a given number of words (\"max_length\"),\n",
        "    otherwise the default cap is 100 words.\n",
        "\n",
        "    Parameters\n",
        "    ----------\n",
        "    input_text : str\n",
        "        The seed text used to generate a paragraph using GPT-2 model.\n",
        "        It does not need to have a complete sentence.\n",
        "\n",
        "    max_length  : int\n",
        "        Maximum number of words of generated paragraph.\n",
        "\n",
        "    use_narrative_hook : boolean\n",
        "        Whether to create more dramatic, story-telling impact by adding a randomly-selected narrative hook\n",
        "        as the opening line (i.e before the input_text) before passing such text collectively into the GPT-2 model.\n",
        "\n",
        "    Returns\n",
        "    -------\n",
        "    paragraph : str\n",
        "        The paragraph generated using GPT-2 model (inclusive of input text).\n",
        "    '''\n",
        "    # Preprocess\n",
        "    input_text = preprocess(input_text)\n",
        "    if use_narrative_hook:\n",
        "        input_text = embellish_text(input_text)\n",
        "\n",
        "    # Produce\n",
        "    return generate_paragraph(input_text, model, max_length=max_length)"
      ],
      "metadata": {
        "id": "yzuYPDe17oZj"
      },
      "execution_count": 42,
      "outputs": []
    },
    {
      "cell_type": "code",
      "source": [
        "def generate_paragraph(input_text, model, max_length=100):\n",
        "    '''\n",
        "    Returns a paragraph generated using\n",
        "    (i) a pre-trained GPT-2 model, and\n",
        "    (ii) an input text that is incorporated as the opening line.\n",
        "\n",
        "    The length of generated paragraph may be capped at a given number of words (\"max_length\"),\n",
        "    otherwise the default cap is 50 words.\n",
        "\n",
        "    Parameters\n",
        "    ----------\n",
        "    input_text : str\n",
        "        The seed text used to generate a paragraph using GPT-2 model.\n",
        "        It does not need to be a complete sentence, but the text must begin properly.\n",
        "\n",
        "    max_length  : int\n",
        "        Maximum number of words of generated paragraph.\n",
        "\n",
        "    Returns\n",
        "    -------\n",
        "    paragraph : str\n",
        "        The paragraph generated using GPT-2 model (inclusive of input text).\n",
        "    '''\n",
        "    # Preprocess\n",
        "    input_text = input_text.capitalize()\n",
        "\n",
        "    # Produce\n",
        "    paragraph = model(f\"{input_text}\", max_length=max_length, num_return_sequences=1)[0]['generated_text']\n",
        "    paragraph = remove_incomplete_sentence(paragraph)\n",
        "    paragraph = check_grammar(paragraph)\n",
        "\n",
        "    return paragraph"
      ],
      "metadata": {
        "id": "U11SZEId7wO6"
      },
      "execution_count": 43,
      "outputs": []
    },
    {
      "cell_type": "code",
      "source": [
        "\n",
        "\n",
        "def preprocess(text):\n",
        "    '''\n",
        "    Preprocesses input text by\n",
        "    (i) removing angular brackets (if any),\n",
        "    (ii) correcting grammar, and\n",
        "    (iii) capitalising first word.\n",
        "\n",
        "    Parameters\n",
        "    ----------\n",
        "    text : str\n",
        "        Text to be preprocessed.\n",
        "\n",
        "    Returns\n",
        "    -------\n",
        "    text : str\n",
        "        Preprocessed text.\n",
        "    '''\n",
        "    # Remove angular brackets\n",
        "    text = remove_angular_brackets(text)\n",
        "\n",
        "    # Converts into past tense\n",
        "    text = find_verbs(text)\n",
        "    text = convert_past_tense(text)\n",
        "\n",
        "    # Correct grammar\n",
        "    text = check_grammar(text)\n",
        "\n",
        "    # Capitalize\n",
        "    text = text.strip().capitalize()\n",
        "\n",
        "    return text"
      ],
      "metadata": {
        "id": "iuuT8kTq71o_"
      },
      "execution_count": 46,
      "outputs": []
    },
    {
      "cell_type": "code",
      "source": [
        "\n",
        "def remove_angular_brackets(text):\n",
        "    '''\n",
        "    Returns text with angular brackets and leading and trailing whitespaces removed.\n",
        "\n",
        "    Parameters\n",
        "    ----------\n",
        "    text : str\n",
        "        Text to be cleaned and have its angular brackets and leading and trailing whitespaces removed.\n",
        "\n",
        "    Returns\n",
        "    -------\n",
        "    text : str\n",
        "        Cleaned text.\n",
        "    '''\n",
        "    regex = re.compile('<.*?>')\n",
        "    text = re.sub(regex, '', text)\n",
        "    return text.strip()\n",
        "\n",
        "\n",
        "def find_verbs(caption):\n",
        "    '''\n",
        "    Finds present participle in caption and adds 'is' in front of it.\n",
        "\n",
        "    Parameters\n",
        "    ----------\n",
        "    caption : str\n",
        "        Caption to be processed.\n",
        "\n",
        "    Returns\n",
        "    -------\n",
        "    caption : str\n",
        "        The processed caption with 'is' before the present participle.\n",
        "    '''\n",
        "    blob = TextBlob(caption)\n",
        "    for word,tag in blob.tags:\n",
        "        if tag == 'VBG':\n",
        "            word_index = caption.find(word)\n",
        "            # add an 'is' before the present participle found (-ing word)\n",
        "            new_caption =  caption[:word_index] + 'is ' + caption[word_index:]\n",
        "            return new_caption\n",
        "    return caption\n"
      ],
      "metadata": {
        "id": "Kl7lKMED77lq"
      },
      "execution_count": 47,
      "outputs": []
    },
    {
      "cell_type": "code",
      "source": [
        "\n",
        "def convert_past_tense(caption):\n",
        "    '''\n",
        "    Converts present tense into past tense.\n",
        "\n",
        "    Parameters\n",
        "    ----------\n",
        "    caption : str\n",
        "        Caption that contains present tense (e.g. 'is', 'are') to be processed.\n",
        "\n",
        "    Returns\n",
        "    -------\n",
        "    caption : str\n",
        "        Caption converted into past tense.\n",
        "    '''\n",
        "    caption = re.sub(r'\\bis\\b', 'was', caption)\n",
        "    caption = re.sub(r'\\bam\\b', 'was', caption)\n",
        "    caption = re.sub(r'\\bare\\b', 'were', caption)\n",
        "    return caption\n",
        "\n"
      ],
      "metadata": {
        "id": "DQPLRtOs8B6S"
      },
      "execution_count": 48,
      "outputs": []
    },
    {
      "cell_type": "code",
      "source": [
        "def check_grammar(paragraph):\n",
        "    '''\n",
        "    Checks and replaces grammatically incorrect parts of paragraph using grammarbot API\n",
        "    (https://github.com/GrammarBot-API/grammarbot-py)\n",
        "\n",
        "    Parameters\n",
        "    ----------\n",
        "    paragraph : str\n",
        "        Paragraph to be processed and have its grammar corrected.\n",
        "\n",
        "    Returns\n",
        "    -------\n",
        "    paragraph : str\n",
        "        The gramatically correct paragraph processed using grammarbot.\n",
        "    '''\n",
        "    try:\n",
        "        res = client.check(paragraph)\n",
        "        n_text = ''\n",
        "        if res.matches:\n",
        "            match = res.matches[0]\n",
        "            word_start = match.replacement_offset\n",
        "            word_end = match.replacement_offset + match.replacement_length\n",
        "\n",
        "            n_text = paragraph[:word_start] + match.replacements[0] + paragraph[word_end:]\n",
        "            return check_grammar(n_text)\n",
        "        else:\n",
        "            # when res.matches is None, it means the paragraph is already grammatically correct\n",
        "            return paragraph\n",
        "    except:\n",
        "        return paragraph\n",
        "\n"
      ],
      "metadata": {
        "id": "x2rTgTWF-aSB"
      },
      "execution_count": 49,
      "outputs": []
    },
    {
      "cell_type": "code",
      "source": [
        "\n",
        "def remove_incomplete_sentence(paragraph):\n",
        "    '''\n",
        "    Returns the paragraph with its trailing incomplete sentence removed.\n",
        "\n",
        "    Parameters\n",
        "    ----------\n",
        "    paragraph : str\n",
        "        Paragraph to be processed and have its trailing incomplete sentence removed.\n",
        "\n",
        "    Returns\n",
        "    -------\n",
        "    paragraph : str\n",
        "        Paragraph with trailing incomplete sentence removed.\n",
        "    '''\n",
        "    # Find negative/reverse position index of last sentence-terminating punctuation in paragraph\n",
        "    last_punctuation_idx = find_last_punctuation_idx(paragraph)\n",
        "\n",
        "    if last_punctuation_idx in [0,1]:\n",
        "        return paragraph\n",
        "    else:\n",
        "        return paragraph[:last_punctuation_idx]\n",
        "\n",
        "\n",
        "def find_last_punctuation_idx(paragraph):\n",
        "    '''\n",
        "    Identifies and returns the negative/reverse position index of a punctuation symbol (!?,\") that is:\n",
        "    (i) typically indicative of the end of a sentence (\"sentence-terminating\"), and\n",
        "    (ii) closest to the end of the paragraph.\n",
        "\n",
        "    Returns 0 if no such punctuation symbol is present.\n",
        "\n",
        "    Parameters\n",
        "    ----------\n",
        "    paragraph : str\n",
        "        Paragraph from which the index of the last, sentence-terminating punctuation symbol is to be identified.\n",
        "\n",
        "    Returns\n",
        "    -------\n",
        "    idx : int\n",
        "        The negative/reverse position index of the last, sentence-terminating punctuation symbol in the given paragraph.\n",
        "    '''\n",
        "    # To-do: account for hard cases where sentences ends with single or double quotation marks.\n",
        "    for idx, char in enumerate(paragraph[::-1]):\n",
        "        if char in ['!','.','?']:\n",
        "            return -idx\n",
        "    return 0\n",
        "\n",
        "\n",
        "def create_paragraphing_html(text):\n",
        "    '''\n",
        "    Takes a paragraph with line breaks in Python ('\\n') and returns with line breaks in HTML ('<br>')\n",
        "\n",
        "    Parameters\n",
        "    ----------\n",
        "    text : str\n",
        "        Paragraph with line breaks in Python\n",
        "\n",
        "    Returns\n",
        "    -------\n",
        "    text : str\n",
        "        Paragraph with line breaks in html.\n",
        "    '''\n",
        "    return text.replace('\\n', '<br>')\n",
        "\n",
        "\n",
        "def random_narrative_hook():\n",
        "    '''\n",
        "    Returns a random narrative hook that is dramatic.\n",
        "\n",
        "    Returns\n",
        "    -------\n",
        "    text : str\n",
        "        A random narrative hook that is dramatic.\n",
        "    '''\n",
        "    try:\n",
        "        # (i) narrative hooks from datasets online\n",
        "        dramatic = pd.read_csv('hooks.csv')\n",
        "        # random = int(time.time())%100\n",
        "        hook = dramatic.sample(1).opening_line.values[0]\n",
        "    except:\n",
        "        # (ii) default narrative hooks\n",
        "        dramatic = [\"I didn't mean to kill her.\",\n",
        "                    \"A shrill cry echoed in the mist.\",\n",
        "                    \"Don't ask me how, but I remember the day I was born.\",\n",
        "                    \"I still remember the day I died.\",\n",
        "                    \"I still remember how I discovered about my past life.\",\n",
        "                    \"I opened my eyes and had no idea where I was.\",\n",
        "                    \"I had the same dream every night and it was scaring me.\",\n",
        "                    \"'Is this it?' I thought to myself.\",\n",
        "                    \"'This cannot be happening.' I thought to myself.\",\n",
        "                    \"There was a secret meeting tonight.\",\n",
        "                    \"By the time this story ends, five persons' lives will be changed forever, including yours.\",\n",
        "                    \"It was the year of electrocution.\",\n",
        "                    \"It was the year 2020.\",\n",
        "                    \"It was the year humans discovered the secrets laying beneath the ear of the Great Sphinx of Giza.\",\n",
        "                    \"It was the the day that led to Earth's last human civilisation.\",\n",
        "                    \"It was the year COVID-19 pandemic finally ended.\",\n",
        "                    \"It was the day that led to the Moon's crash onto Earth.\",\n",
        "                    \"It was the day that led to Donald Trump's presidency.\",\n",
        "                    \"It was the day that led to the COVID-19 pandemic.\",\n",
        "                    \"It was the day the aliens arrived.\",\n",
        "                    \"I am an inmate at a mental hospital: this is what happens in my mind, every day.\",\n",
        "                    \"I went back in time.\",\n",
        "                    \"I am doing it again, but this time there will be no witnesses.\",\n",
        "                    \"I had never seen a ghost.  But like they say, there is a first time for everything.\",\n",
        "                    \"Am I in heaven?  What happened to me?\",\n",
        "                    \"I couldn't tell if I was in one of my dreams or reality.\",\n",
        "                    \"'You were a key eyewitness to this major accident. Please tell our viewers what you saw.'\",\n",
        "                    \"My neighbour says my cat is threatening to kill me.\",\n",
        "                    \"It was the best of times, it was the worst of times.\",\n",
        "                    \"It was the age of wisdom, it was the age of foolishness.\",\n",
        "                    \"The Earth exhibit is one of the strangest collections of our zoo: 7.59 billion humans and trillions of other biological beings that are totally unaware they are captive and being watched by us.\",\n",
        "                    \"I am never coming back to this place.\",\n",
        "                    \"If you are interested in stories with happy endings, you will be better off reading some other book.\",\n",
        "                    \"Shirley made a wish, and there and then the scene around her changed before her very eyes.\",\n",
        "                    \"It came like a lightning bolt.\",\n",
        "                    \"'Welcome to the good place,' the elder said.\",\n",
        "                    \"'Welcome to the bad place,' the elder said.\",\n",
        "                    \"It’s not my fault.\",\n",
        "                    \"I was not sorry when my brother died.\",\n",
        "                    \"Little did I know how important this witness’s testimony would become.\",\n",
        "                    \"With his heart skipping a beat, Ken switches on his PC simulation.\",\n",
        "                    \"Kit’s voice rang out: 'Nobody moves!'\"]\n",
        "\n",
        "        # Randomnisation because random.choice is not random enough... (prone to recurring pattern)\n",
        "        random_rounds = int(time.time()) % 10\n",
        "        for round in range(random_rounds):\n",
        "            random.shuffle(dramatic)\n",
        "\n",
        "        hook = random.choice(dramatic)\n",
        "\n",
        "    return hook\n",
        "\n",
        "\n",
        "def embellish_text(input_text):\n",
        "    '''\n",
        "    Embellishes input_text by adding a randomly-selected narrative hook as the opening line\n",
        "\n",
        "    Parameters\n",
        "    ----------\n",
        "    input_text : str\n",
        "        The text to be embellished with a random opening line incorporated\n",
        "\n",
        "\n",
        "    Returns\n",
        "    -------\n",
        "    text : str\n",
        "        The embellished text with a random opening line incorporated\n",
        "    '''\n",
        "    return random_narrative_hook().capitalize() + '\\n\\n' + input_text.capitalize()\n"
      ],
      "metadata": {
        "id": "ZrMJXT3b8M6_"
      },
      "execution_count": 50,
      "outputs": []
    },
    {
      "cell_type": "code",
      "source": [
        "!pip install nltk"
      ],
      "metadata": {
        "colab": {
          "base_uri": "https://localhost:8080/"
        },
        "id": "9PvQWtm19MSC",
        "outputId": "e138b714-c29a-47af-9be9-d06432f0478a"
      },
      "execution_count": 28,
      "outputs": [
        {
          "output_type": "stream",
          "name": "stdout",
          "text": [
            "Requirement already satisfied: nltk in /usr/local/lib/python3.10/dist-packages (3.8.1)\n",
            "Requirement already satisfied: click in /usr/local/lib/python3.10/dist-packages (from nltk) (8.1.7)\n",
            "Requirement already satisfied: joblib in /usr/local/lib/python3.10/dist-packages (from nltk) (1.4.0)\n",
            "Requirement already satisfied: regex>=2021.8.3 in /usr/local/lib/python3.10/dist-packages (from nltk) (2023.12.25)\n",
            "Requirement already satisfied: tqdm in /usr/local/lib/python3.10/dist-packages (from nltk) (4.66.2)\n"
          ]
        }
      ]
    },
    {
      "cell_type": "code",
      "source": [
        "import nltk\n",
        "nltk.download('punkt')\n",
        "nltk.download('wordnet')\n",
        "nltk.download('omw-1.4')\n",
        "nltk.download('averaged_perceptron_tagger')"
      ],
      "metadata": {
        "colab": {
          "base_uri": "https://localhost:8080/"
        },
        "id": "LWTO45TB83UT",
        "outputId": "669ff0d2-f75f-4c5b-871e-a1e530af6ac1"
      },
      "execution_count": 32,
      "outputs": [
        {
          "output_type": "stream",
          "name": "stderr",
          "text": [
            "[nltk_data] Downloading package punkt to /root/nltk_data...\n",
            "[nltk_data]   Package punkt is already up-to-date!\n",
            "[nltk_data] Downloading package wordnet to /root/nltk_data...\n",
            "[nltk_data]   Package wordnet is already up-to-date!\n",
            "[nltk_data] Downloading package omw-1.4 to /root/nltk_data...\n",
            "[nltk_data]   Package omw-1.4 is already up-to-date!\n",
            "[nltk_data] Downloading package averaged_perceptron_tagger to\n",
            "[nltk_data]     /root/nltk_data...\n",
            "[nltk_data]   Unzipping taggers/averaged_perceptron_tagger.zip.\n"
          ]
        },
        {
          "output_type": "execute_result",
          "data": {
            "text/plain": [
              "True"
            ]
          },
          "metadata": {},
          "execution_count": 32
        }
      ]
    },
    {
      "cell_type": "code",
      "source": [
        "if __name__ == '__main__':\n",
        "    model = load_model()\n",
        "    para = generate_story(\"A man surfing in beach\", model)\n",
        "    print(para)"
      ],
      "metadata": {
        "colab": {
          "base_uri": "https://localhost:8080/"
        },
        "id": "wjPgJ5eR8kAl",
        "outputId": "632d4b1e-db6e-4222-b319-42ada57022be"
      },
      "execution_count": 52,
      "outputs": [
        {
          "output_type": "stream",
          "name": "stderr",
          "text": [
            "Truncation was not explicitly activated but `max_length` is provided a specific value, please use `truncation=True` to explicitly truncate examples to max length. Defaulting to 'longest_first' truncation strategy. If you encode pairs of sequences (GLUE-style) with the tokenizer you can select this strategy more precisely by providing a specific strategy to `truncation`.\n",
            "Setting `pad_token_id` to `eos_token_id`:50256 for open-end generation.\n"
          ]
        },
        {
          "output_type": "stream",
          "name": "stdout",
          "text": [
            "'welcome to the bad place,' the elder said.\n",
            "\n",
            "a man was surfing in beach waters near Aitka when a friend who was not in the party started shouting obscenities at him. \"I told him: 'You are a whore,' the friend said,\" says Dusanyat.\n",
            "\n",
            "\"It was an incident from the beginning, when he said: 'I'm a woman, I'm a good girl, the only one that I can be.' He never apologised to me and told me to shut up and not talk about the incident to anybody.\"\n",
            "\n",
            "Another incident in which the victim had to leave him for a friend by the water also happened to him in the same incident.\n"
          ]
        }
      ]
    }
  ]
}