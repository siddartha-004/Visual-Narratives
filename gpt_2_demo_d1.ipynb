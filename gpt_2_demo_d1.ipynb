{
  "cells": [
    {
      "cell_type": "markdown",
      "metadata": {
        "id": "view-in-github",
        "colab_type": "text"
      },
      "source": [
        "<a href=\"https://colab.research.google.com/github/siddartha-004/Visual-Narratives/blob/display/gpt_2_demo_d1.ipynb\" target=\"_parent\"><img src=\"https://colab.research.google.com/assets/colab-badge.svg\" alt=\"Open In Colab\"/></a>"
      ]
    },
    {
      "cell_type": "markdown",
      "metadata": {
        "id": "hCGIlx4m2wEA"
      },
      "source": [
        "# Quick Load from gpt2.py file"
      ]
    },
    {
      "cell_type": "code",
      "execution_count": null,
      "metadata": {
        "id": "qQVGuHI82wEC"
      },
      "outputs": [],
      "source": [
        "import os\n",
        "import sys\n",
        "import time\n",
        "import pandas as pd\n",
        "nb_dir = os.path.split(os.getcwd())[0]\n",
        "if nb_dir not in sys.path:\n",
        "    sys.path.append(nb_dir)\n",
        "\n",
        "from src import gpt2"
      ]
    },
    {
      "cell_type": "code",
      "execution_count": null,
      "metadata": {
        "id": "kYFOXDoT2wED"
      },
      "outputs": [],
      "source": [
        "def print_stars(title):\n",
        "    print('='*len(title))\n",
        "    print(title)\n",
        "    print('='*len(title))\n",
        "\n",
        "def generate_story_from_random_df(df, max_length=100):\n",
        "\n",
        "    start = time.time()\n",
        "\n",
        "    print_stars('Original Caption')\n",
        "    sample_caption = df.sample(1)['0'].values[0]\n",
        "    print(f'\\n{sample_caption}\\n')\n",
        "\n",
        "    print_stars('Generated Story')\n",
        "    generated_story = gpt2.generate_story(sample_caption, model, max_length=max_length, use_narrative_hook=True)\n",
        "    print(f'\\n{generated_story}\\n')\n",
        "\n",
        "    end = time.time()\n",
        "\n",
        "    print_stars('Time Taken')\n",
        "    print(f'\\nTime taken to generate story: {end - start} seconds\\n')"
      ]
    },
    {
      "cell_type": "code",
      "execution_count": null,
      "metadata": {
        "colab": {
          "referenced_widgets": [
            "11b6ad8c634349ac8b7043e66eff52af"
          ]
        },
        "id": "iCUKraZI2wED",
        "outputId": "68ac78f6-cf81-45cb-ff4b-39590a569db9"
      },
      "outputs": [
        {
          "data": {
            "application/vnd.jupyter.widget-view+json": {
              "model_id": "11b6ad8c634349ac8b7043e66eff52af",
              "version_major": 2,
              "version_minor": 0
            },
            "text/plain": [
              "HBox(children=(FloatProgress(value=0.0, description='Downloading', max=230.0, style=ProgressStyle(description_…"
            ]
          },
          "metadata": {},
          "output_type": "display_data"
        },
        {
          "name": "stdout",
          "output_type": "stream",
          "text": [
            "\n"
          ]
        }
      ],
      "source": [
        "# Image captions\n",
        "df = pd.read_csv(\"img_captions_2000.csv\")\n",
        "model = gpt2.load_model()"
      ]
    },
    {
      "cell_type": "code",
      "execution_count": null,
      "metadata": {
        "id": "QAoX8TVV2wEE",
        "outputId": "cb8720dc-1669-4994-fcba-cfc83fd28a64"
      },
      "outputs": [
        {
          "name": "stdout",
          "output_type": "stream",
          "text": [
            "================\n",
            "Original Caption\n",
            "================\n",
            "\n",
            "<start> A newborn giraffe is sitting close to an adult giraffe. <end>\n",
            "\n",
            "===============\n",
            "Generated Story\n",
            "===============\n"
          ]
        },
        {
          "name": "stderr",
          "output_type": "stream",
          "text": [
            "Setting `pad_token_id` to 50256 (first `eos_token_id`) to generate sequence\n"
          ]
        },
        {
          "name": "stdout",
          "output_type": "stream",
          "text": [
            "\n",
            "It was the year COVID-19 pandemic finally ended. A newborn giraffe is sitting close to an adult giraffe. It's like \"Hey man, did I get it?\" and we start the next shot of COVID-19 that would have brought us all to my house to meet her.\n",
            "\n",
            "Then we started a search for other humans, but I was really, really excited by what I saw.\n",
            "\n",
            "==========\n",
            "Time Taken\n",
            "==========\n",
            "\n",
            "Time taken to generate story: 7.556862831115723 seconds\n",
            "\n",
            "================\n",
            "Original Caption\n",
            "================\n",
            "\n",
            "<start> A cardboard sign above a pile of limes. <end>\n",
            "\n",
            "===============\n",
            "Generated Story\n",
            "===============\n"
          ]
        },
        {
          "name": "stderr",
          "output_type": "stream",
          "text": [
            "Setting `pad_token_id` to 50256 (first `eos_token_id`) to generate sequence\n"
          ]
        },
        {
          "name": "stdout",
          "output_type": "stream",
          "text": [
            "\n",
            "It was the day that led to Earth's last human civilization. A cardboard sign above a pile of limes. We were told the \"Dwarf War had been so rough that we just couldn't stand up\". But, of course, it was the night of the war. \"All the people of the world are here, just as we are. I've been here on time and I don't remember anyone but me here. But that's pretty much how I felt. So I didn't really want to be out of it, that's for sure. You never know.\"\n",
            "\n",
            "\n",
            "Then in March 1967, we did a radio interview with David Rockefeller.\n",
            "\n",
            "==========\n",
            "Time Taken\n",
            "==========\n",
            "\n",
            "Time taken to generate story: 13.034668684005737 seconds\n",
            "\n",
            "================\n",
            "Original Caption\n",
            "================\n",
            "\n",
            "<start> Wine glass sitting on a table with wine in it. <end>\n",
            "\n",
            "===============\n",
            "Generated Story\n",
            "===============\n"
          ]
        },
        {
          "name": "stderr",
          "output_type": "stream",
          "text": [
            "Setting `pad_token_id` to 50256 (first `eos_token_id`) to generate sequence\n"
          ]
        },
        {
          "name": "stdout",
          "output_type": "stream",
          "text": [
            "\n",
            "'This cannot be happening.' I thought to myself. Wine glass sitting on a table with wine in it. It was an extraordinary feeling.\"\n",
            "\n",
            "\n",
            "\"I know you don't drink alcohol. The last time I drank a drink I went into depression. I have no intention of drinking. Please don't come to me that you don't want to come to me. I know that people think alcohol is better for you. Don't believe it, don't believe it. When I'm a fool I see alcohol as good for me. It doesn't matter; we can't be mad at God. We can't be drunk.\"\n",
            "\n",
            "\n",
            "\"I hate to say it, but you shouldn't be drinking.\"\n",
            "\n",
            "\n",
            "\"A glass is as good as one's life.\"\n",
            "\n",
            "\n",
            "\"Can you imagine how difficult this would have been if I had not asked you to help me? I could have thrown myself to the side but I couldn't see you.\n",
            "\n",
            "==========\n",
            "Time Taken\n",
            "==========\n",
            "\n",
            "Time taken to generate story: 17.11511206626892 seconds\n",
            "\n"
          ]
        }
      ],
      "source": [
        "# Generate stories (100, 150, 200 words)\n",
        "\n",
        "story_length = [100, 150, 200]\n",
        "\n",
        "for words in story_length:\n",
        "    generate_story_from_random_df(df, max_length=words)"
      ]
    },
    {
      "cell_type": "code",
      "execution_count": null,
      "metadata": {
        "id": "Xk6q6BL42wEF",
        "outputId": "23a4b9c5-e51a-4d99-9554-be2c7ab8356e"
      },
      "outputs": [
        {
          "name": "stdout",
          "output_type": "stream",
          "text": [
            "================\n",
            "Original Caption\n",
            "================\n",
            "\n",
            "<start> a bathroom with a white trash can, toilet, and a white sink. <end>\n",
            "\n",
            "===============\n",
            "Generated Story\n",
            "===============\n"
          ]
        },
        {
          "name": "stderr",
          "output_type": "stream",
          "text": [
            "Setting `pad_token_id` to 50256 (first `eos_token_id`) to generate sequence\n"
          ]
        },
        {
          "name": "stdout",
          "output_type": "stream",
          "text": [
            "\n",
            "My neighbor says my cat is threatening to kill me. A bathroom with a white trash can, toilet, and a white sink. My neighbor also says I just need to leave. It's in the laundry and dishes. I can only move about five meters and walk from the door. I can only do it by myself or just use a leash. My neighbor has to go to the toilet so that my cat keeps out of sight. My neighbor says his cat will kill me!\n",
            "\n",
            "==========\n",
            "Time Taken\n",
            "==========\n",
            "\n",
            "Time taken to generate story: 16.609331846237183 seconds\n",
            "\n",
            "================\n",
            "Original Caption\n",
            "================\n",
            "\n",
            "<start> Man putting up umbrella for group of people <end>\n",
            "\n",
            "===============\n",
            "Generated Story\n",
            "===============\n"
          ]
        },
        {
          "name": "stderr",
          "output_type": "stream",
          "text": [
            "Setting `pad_token_id` to 50256 (first `eos_token_id`) to generate sequence\n"
          ]
        },
        {
          "name": "stdout",
          "output_type": "stream",
          "text": [
            "\n",
            "Don't ask me how, but I remember the day I was born. Man putting up umbrella for group of people at church. I was at their altar, and they're saying, 'Wait a minute, are you trying to be nice?'\"\n",
            "\n",
            "For a week or two, the women and men were standing in front of Christ, on the cross, and praying. \"I think it was really important for me to get involved,\" she says. \"There was a time when I felt really lost. Maybe after coming to a religious society, there was some people who still felt lost. So that's what we went out and said, 'You're being totally inadequate.'\"\n",
            "\n",
            "A group of young girls at the University of Houston.\n",
            "\n",
            "==========\n",
            "Time Taken\n",
            "==========\n",
            "\n",
            "Time taken to generate story: 10.578012943267822 seconds\n",
            "\n",
            "================\n",
            "Original Caption\n",
            "================\n",
            "\n",
            "<start> a tree that has a park bench under it <end>\n",
            "\n",
            "===============\n",
            "Generated Story\n",
            "===============\n"
          ]
        },
        {
          "name": "stderr",
          "output_type": "stream",
          "text": [
            "Setting `pad_token_id` to 50256 (first `eos_token_id`) to generate sequence\n"
          ]
        },
        {
          "name": "stdout",
          "output_type": "stream",
          "text": [
            "\n",
            "A shrill cry echoed in the mist. A tree that has a park bench under it, and where many trees grow so little that they cannot get access to the park is now, if not completely destroyed, burned to ashes. A young girl, also young, walked along towards the lake. It is one of the places that she could only see from the clouds. She is in her early teens, but she had hoped that she can be there, and that her memories of it would be there when she would return to the village.\n",
            "\n",
            "This is what they see at the lake. It was a city with a city, but the forest there was like nothing but a white mist. The houses were piled on top of each other in half as the forest burned, and the tree that was taller than it sat next to that one. The man on the ground who could bear the pain of the village was in the middle of the forest with her legs still wide open.\n",
            "\n",
            "==========\n",
            "Time Taken\n",
            "==========\n",
            "\n",
            "Time taken to generate story: 16.382866859436035 seconds\n",
            "\n"
          ]
        }
      ],
      "source": [
        "# Generate stories (100, 150, 200 words)\n",
        "\n",
        "story_length = [100, 150, 200]\n",
        "\n",
        "for words in story_length:\n",
        "    generate_story_from_random_df(df, max_length=words)"
      ]
    },
    {
      "cell_type": "markdown",
      "metadata": {
        "id": "h3ufZuR02wEF"
      },
      "source": [
        "# 0. Preprocessing"
      ]
    },
    {
      "cell_type": "markdown",
      "metadata": {
        "id": "PfZ5RKdW2wEF"
      },
      "source": [
        "**Libraries needed**\n",
        "\n",
        "- pip install nltk\n",
        "- pip install textblob\n",
        "- pip install regex\n",
        "- pip install grammarbot"
      ]
    },
    {
      "cell_type": "code",
      "source": [
        "!python -m textblob.download_corpora"
      ],
      "metadata": {
        "colab": {
          "base_uri": "https://localhost:8080/"
        },
        "id": "99T9H5Um4frR",
        "outputId": "5b8e35b5-5c07-4437-87c3-51b34541fdb5"
      },
      "execution_count": 31,
      "outputs": [
        {
          "output_type": "stream",
          "name": "stdout",
          "text": [
            "[nltk_data] Downloading package brown to /root/nltk_data...\n",
            "[nltk_data]   Unzipping corpora/brown.zip.\n",
            "[nltk_data] Downloading package punkt to /root/nltk_data...\n",
            "[nltk_data]   Package punkt is already up-to-date!\n",
            "[nltk_data] Downloading package wordnet to /root/nltk_data...\n",
            "[nltk_data] Downloading package averaged_perceptron_tagger to\n",
            "[nltk_data]     /root/nltk_data...\n",
            "[nltk_data]   Unzipping taggers/averaged_perceptron_tagger.zip.\n",
            "[nltk_data] Downloading package conll2000 to /root/nltk_data...\n",
            "[nltk_data]   Unzipping corpora/conll2000.zip.\n",
            "[nltk_data] Downloading package movie_reviews to /root/nltk_data...\n",
            "[nltk_data]   Unzipping corpora/movie_reviews.zip.\n",
            "Finished.\n"
          ]
        }
      ]
    },
    {
      "cell_type": "code",
      "source": [
        "import nltk\n",
        "nltk.download('punkt')"
      ],
      "metadata": {
        "colab": {
          "base_uri": "https://localhost:8080/"
        },
        "id": "PQ5-5BZ33465",
        "outputId": "2dbe3fb9-b81f-47ff-c449-7ce59c05bd49"
      },
      "execution_count": 32,
      "outputs": [
        {
          "output_type": "stream",
          "name": "stderr",
          "text": [
            "[nltk_data] Downloading package punkt to /root/nltk_data...\n",
            "[nltk_data]   Package punkt is already up-to-date!\n"
          ]
        },
        {
          "output_type": "execute_result",
          "data": {
            "text/plain": [
              "True"
            ]
          },
          "metadata": {},
          "execution_count": 32
        }
      ]
    },
    {
      "cell_type": "code",
      "source": [
        "pip install grammarbot"
      ],
      "metadata": {
        "colab": {
          "base_uri": "https://localhost:8080/"
        },
        "id": "yiynuaHB26nx",
        "outputId": "e19a4b28-2818-41f9-d882-e90ec120857f"
      },
      "execution_count": 33,
      "outputs": [
        {
          "output_type": "stream",
          "name": "stdout",
          "text": [
            "Requirement already satisfied: grammarbot in /usr/local/lib/python3.10/dist-packages (0.2.0)\n",
            "Requirement already satisfied: requests in /usr/local/lib/python3.10/dist-packages (from grammarbot) (2.31.0)\n",
            "Requirement already satisfied: charset-normalizer<4,>=2 in /usr/local/lib/python3.10/dist-packages (from requests->grammarbot) (3.3.2)\n",
            "Requirement already satisfied: idna<4,>=2.5 in /usr/local/lib/python3.10/dist-packages (from requests->grammarbot) (3.7)\n",
            "Requirement already satisfied: urllib3<3,>=1.21.1 in /usr/local/lib/python3.10/dist-packages (from requests->grammarbot) (2.0.7)\n",
            "Requirement already satisfied: certifi>=2017.4.17 in /usr/local/lib/python3.10/dist-packages (from requests->grammarbot) (2024.2.2)\n"
          ]
        }
      ]
    },
    {
      "cell_type": "code",
      "execution_count": 34,
      "metadata": {
        "id": "8uFOkL0P2wEG"
      },
      "outputs": [],
      "source": [
        "import re\n",
        "import random\n",
        "from textblob import TextBlob\n",
        "from grammarbot import GrammarBotClient\n",
        "from nltk.tokenize import sent_tokenize"
      ]
    },
    {
      "cell_type": "markdown",
      "metadata": {
        "id": "hNC-D9c82wEG"
      },
      "source": [
        "### (i) Clean Image Caption"
      ]
    },
    {
      "cell_type": "code",
      "execution_count": 35,
      "metadata": {
        "id": "PN99GyiZ2wEG"
      },
      "outputs": [],
      "source": [
        "def remove_angular_brackets(text):\n",
        "    '''\n",
        "    Returns text with angular brackets and leading and trailing whitespaces removed.\n",
        "\n",
        "    Parameters\n",
        "    ----------\n",
        "    text : str\n",
        "        Text to be cleaned and have its angular brackets and leading and trailing whitespaces removed.\n",
        "\n",
        "    Returns\n",
        "    -------\n",
        "    text : str\n",
        "        Cleaned text.\n",
        "    '''\n",
        "    regex = re.compile('<.*?>')\n",
        "    text = re.sub(regex, '', text)\n",
        "    return text.strip()"
      ]
    },
    {
      "cell_type": "markdown",
      "metadata": {
        "id": "3mhDFfIQ2wEH"
      },
      "source": [
        "### (ii) Identify Nouns/Entities"
      ]
    },
    {
      "cell_type": "code",
      "execution_count": 36,
      "metadata": {
        "id": "iCjLZJEG2wEH"
      },
      "outputs": [],
      "source": [
        "def extract_nouns(text):\n",
        "    blob = TextBlob(text)\n",
        "    noun_phrases = list(blob.noun_phrases)\n",
        "    nouns = [label[0] for label in blob.tags if label[1] in ['NN','NNS'] and not any([label[0] in noun_phrase for noun_phrase in noun_phrases])]\n",
        "    if len(nouns) > 2:\n",
        "        nouns = nouns[:2]\n",
        "    return nouns + noun_phrases"
      ]
    },
    {
      "cell_type": "markdown",
      "metadata": {
        "id": "je2acYgb2wEH"
      },
      "source": [
        "### (iii) Personify"
      ]
    },
    {
      "cell_type": "code",
      "execution_count": 37,
      "metadata": {
        "id": "wooSovD72wEH"
      },
      "outputs": [],
      "source": [
        "def personify(text):\n",
        "    text = re.sub('A person', 'He', text)\n",
        "    text = re.sub('A man', 'He', text)\n",
        "    text = re.sub('A men', 'He', text)\n",
        "    text = re.sub('A woman', 'She', text)\n",
        "    text = re.sub('A women', 'She', text)\n",
        "    text = re.sub('Woman', 'She', text)\n",
        "    text = re.sub('Man', 'He', text)\n",
        "    text = re.sub('A boy', 'The young boy', text)\n",
        "    text = re.sub('A girl', 'The young girl', text)\n",
        "    text = re.sub('A child', 'The child', text)\n",
        "    text = re.sub('Small child', 'The child', text)\n",
        "    text = re.sub('groups of people', 'They', text)\n",
        "    text = re.sub('A group of people', 'They', text)\n",
        "    text = text.capitalize() # Capitalize first word\n",
        "    return text"
      ]
    },
    {
      "cell_type": "markdown",
      "metadata": {
        "id": "MSKyb9_l2wEH"
      },
      "source": [
        "### (iv) Clean Grammatical Errors"
      ]
    },
    {
      "cell_type": "code",
      "execution_count": 38,
      "metadata": {
        "id": "vPA8Hin_2wEI"
      },
      "outputs": [],
      "source": [
        "from grammarbot import GrammarBotClient"
      ]
    },
    {
      "cell_type": "code",
      "execution_count": 39,
      "metadata": {
        "id": "zgGsvZ_d2wEI"
      },
      "outputs": [],
      "source": [
        "client = GrammarBotClient() # create client beforehand"
      ]
    },
    {
      "cell_type": "code",
      "execution_count": 40,
      "metadata": {
        "id": "DCsUXrwq2wEI"
      },
      "outputs": [],
      "source": [
        "def check_grammar(paragraph):\n",
        "    '''\n",
        "    Checks and replaces grammatically incorrect parts of paragraph using grammarbot API\n",
        "    (https://github.com/GrammarBot-API/grammarbot-py)\n",
        "\n",
        "    Parameters\n",
        "    ----------\n",
        "    paragraph : str\n",
        "        Paragraph to be processed and have its grammar corrected.\n",
        "\n",
        "    Returns\n",
        "    -------\n",
        "    paragraph : str\n",
        "        The gramatically correct paragraph processed using grammarbot.\n",
        "    '''\n",
        "    try:\n",
        "        res = client.check(paragraph)\n",
        "        n_text = ''\n",
        "        if res.matches:\n",
        "            match = res.matches[0]\n",
        "            word_start = match.replacement_offset\n",
        "            word_end = match.replacement_offset + match.replacement_length\n",
        "\n",
        "            n_text = paragraph[:word_start] + match.replacements[0] + paragraph[word_end:]\n",
        "            return check_grammar(n_text)\n",
        "        else:\n",
        "            # when res.matches is None, it means the paragraph is already grammatically correct\n",
        "            return paragraph\n",
        "    except:\n",
        "        return paragraph"
      ]
    },
    {
      "cell_type": "markdown",
      "metadata": {
        "id": "Npki3u7q2wEI"
      },
      "source": [
        "### (v) Story Starters / Narrative Hooks"
      ]
    },
    {
      "cell_type": "code",
      "execution_count": 41,
      "metadata": {
        "id": "l5stMePi2wEI"
      },
      "outputs": [],
      "source": [
        "def random_narrative_hook():\n",
        "    '''\n",
        "    Returns a random narrative hook that is dramatic.\n",
        "\n",
        "    Returns\n",
        "    -------\n",
        "    text : str\n",
        "        A random narrative hook that is dramatic.\n",
        "    '''\n",
        "    try:\n",
        "        # (i) narrative hooks from datasets online\n",
        "        dramatic = pd.read_csv('../src/hooks.csv')\n",
        "        hook = dramatic.sample(1).opening_line.values[0]\n",
        "    except:\n",
        "        # (ii) default narrative hooks\n",
        "        dramatic = [\"I didn't mean to kill her.\",\n",
        "                    \"A shrill cry echoed in the mist.\",\n",
        "                    \"Don't ask me how, but I remember the day I was born.\",\n",
        "                    \"I still remember the day I died.\",\n",
        "                    \"I still remember how I discovered about my past life.\",\n",
        "                    \"I opened my eyes and had no idea where I was.\",\n",
        "                    \"I had the same dream every night and it was scaring me.\",\n",
        "                    \"'Is this it?' I thought to myself.\",\n",
        "                    \"'This cannot be happening.' I thought to myself.\",\n",
        "                    \"There was a secret meeting tonight.\",\n",
        "                    \"By the time this story ends, five persons' lives will be changed forever, including yours.\",\n",
        "                    \"It was the year of electrocution.\",\n",
        "                    \"It was the year 2020.\",\n",
        "                    \"It was the year humans discovered the secrets laying beneath the ear of the Great Sphinx of Giza.\",\n",
        "                    \"It was the the day that led to Earth's last human civilisation.\",\n",
        "                    \"It was the year COVID-19 pandemic finally ended.\",\n",
        "                    \"It was the day that led to the Moon's crash onto Earth.\",\n",
        "                    \"It was the day that led to Donald Trump's presidency.\",\n",
        "                    \"It was the day that led to the COVID-19 pandemic.\",\n",
        "                    \"It was the day the aliens arrived.\",\n",
        "                    \"I am an inmate at a mental hospital: this is what happens in my mind, every day.\",\n",
        "                    \"I went back in time.\",\n",
        "                    \"I am doing it again, but this time there will be no witnesses.\",\n",
        "                    \"I had never seen a ghost.  But like they say, there is a first time for everything.\",\n",
        "                    \"Am I in heaven?  What happened to me?\",\n",
        "                    \"I couldn't tell if I was in one of my dreams or reality.\",\n",
        "                    \"'You were a key eyewitness to this major accident. Please tell our viewers what you saw.'\",\n",
        "                    \"My neighbour says my cat is threatening to kill me.\",\n",
        "                    \"It was the best of times, it was the worst of times.\",\n",
        "                    \"It was the age of wisdom, it was the age of foolishness.\",\n",
        "                    \"The Earth exhibit is one of the strangest collections of our zoo: 7.59 billion humans and trillions of other biological beings that are totally unaware they are captive and being watched by us.\",\n",
        "                    \"I am never coming back to this place.\",\n",
        "                    \"If you are interested in stories with happy endings, you will be better off reading some other book.\",\n",
        "                    \"Shirley made a wish, and there and then the scene around her changed before her very eyes.\",\n",
        "                    \"It came like a lightning bolt.\",\n",
        "                    \"'Welcome to the good place,' the elder said.\",\n",
        "                    \"'Welcome to the bad place,' the elder said.\",\n",
        "                    \"It’s not my fault.\",\n",
        "                    \"I was not sorry when my brother died.\",\n",
        "                    \"Little did I know how important this witness’s testimony would become.\",\n",
        "                    \"With his heart skipping a beat, Ken switches on his PC simulation.\",\n",
        "                    \"Kit’s voice rang out: 'Nobody moves!'\"]\n",
        "\n",
        "        # Randomnisation because random.choice is not random enough... (prone to recurring pattern)\n",
        "        random_rounds = int(time.time()) % 10\n",
        "        for round in range(random_rounds):\n",
        "            random.shuffle(dramatic)\n",
        "\n",
        "        hook = random.choice(dramatic)\n",
        "\n",
        "    return hook\n",
        "\n",
        "def embellish_text(input_text):\n",
        "    '''\n",
        "    Embellishes input_text by adding a randomly-selected narrative hook as the opening line\n",
        "\n",
        "    Parameters\n",
        "    ----------\n",
        "    input_text : str\n",
        "        The text to be embellished with a random opening line incorporated\n",
        "\n",
        "\n",
        "    Returns\n",
        "    -------\n",
        "    text : str\n",
        "        The embellished text with a random opening line incorporated\n",
        "    '''\n",
        "    return random_narrative_hook() + '\\n\\n' + input_text.capitalize()"
      ]
    },
    {
      "cell_type": "markdown",
      "metadata": {
        "id": "BNOrN8Sf2wEK"
      },
      "source": [
        "### (vi) Convert to paste tense"
      ]
    },
    {
      "cell_type": "code",
      "execution_count": 42,
      "metadata": {
        "id": "cuZyymrf2wEK"
      },
      "outputs": [],
      "source": [
        "import re\n",
        "from textblob import TextBlob"
      ]
    },
    {
      "cell_type": "code",
      "execution_count": 43,
      "metadata": {
        "id": "R9Cv_t3m2wEK"
      },
      "outputs": [],
      "source": [
        "caption1 = \"A newborn giraffe is sitting close to an adult giraffe.\"\n",
        "caption2 = \"A cardboard sign above a pile of limes.\"\n",
        "caption3 = \"A bathroom with a white trash can, toilet, and a white sink.\"\n",
        "caption4 = \"Man putting up umbrella for group of people.\"\n",
        "caption5 = \"A large jetliner flying through a clear blue sky.\""
      ]
    },
    {
      "cell_type": "code",
      "execution_count": 44,
      "metadata": {
        "id": "NqJFvBQM2wEK"
      },
      "outputs": [],
      "source": [
        "def find_verbs(caption):\n",
        "    blob = TextBlob(caption)\n",
        "    for word,tag in blob.tags:\n",
        "        if tag == 'VBG':\n",
        "            word_index = caption.find(word)\n",
        "            # add an 'is' before the present participle found (-ing word)\n",
        "            new_caption =  caption[:word_index] + 'is ' + caption[word_index:]\n",
        "            return new_caption\n",
        "    return caption"
      ]
    },
    {
      "cell_type": "code",
      "execution_count": 45,
      "metadata": {
        "id": "v2_CPJb_2wEK"
      },
      "outputs": [],
      "source": [
        "def convert_past_tense(caption):\n",
        "    caption = re.sub(r'\\bis\\b', 'was', caption)\n",
        "    caption = re.sub(r'\\bam\\b', 'was', caption)\n",
        "    caption = re.sub(r'\\bare\\b', 'were', caption)\n",
        "    return caption"
      ]
    },
    {
      "cell_type": "code",
      "execution_count": 46,
      "metadata": {
        "colab": {
          "base_uri": "https://localhost:8080/"
        },
        "id": "iT0PksQl2wEL",
        "outputId": "9900979d-6c08-49f2-9226-dfc4a80db2b5"
      },
      "outputs": [
        {
          "output_type": "stream",
          "name": "stdout",
          "text": [
            "A man is walking by his house\n",
            "A man was was walking by his house\n"
          ]
        }
      ],
      "source": [
        "caption6 = \"A man is walking by his house\"\n",
        "print(caption6)\n",
        "new_caption = find_verbs(caption6)\n",
        "new_caption = convert_past_tense(new_caption)\n",
        "new_caption = check_grammar(new_caption)\n",
        "print(new_caption)"
      ]
    },
    {
      "cell_type": "markdown",
      "metadata": {
        "id": "pvOx6Fpz2wEL"
      },
      "source": [
        "### (vii) Post-Processing"
      ]
    },
    {
      "cell_type": "code",
      "execution_count": 47,
      "metadata": {
        "id": "gwawL8g62wEL"
      },
      "outputs": [],
      "source": [
        "def remove_incomplete_sentence(paragraph):\n",
        "    '''\n",
        "    Returns the paragraph with its trailing incomplete sentence removed.\n",
        "\n",
        "    Parameters\n",
        "    ----------\n",
        "    paragraph : str\n",
        "        Paragraph to be processed and have its trailing incomplete sentence removed.\n",
        "\n",
        "    Returns\n",
        "    -------\n",
        "    paragraph : str\n",
        "        Paragraph with trailing incomplete sentence removed.\n",
        "    '''\n",
        "    # Find negative/reverse position index of last sentence-terminating punctuation in paragraph\n",
        "    last_punctuation_idx = find_last_punctuation_idx(paragraph)\n",
        "\n",
        "    if last_punctuation_idx in [0,1]:\n",
        "        return paragraph\n",
        "    else:\n",
        "        return paragraph[:last_punctuation_idx]\n",
        "\n",
        "\n",
        "def find_last_punctuation_idx(paragraph):\n",
        "    '''\n",
        "    Identifies and returns the negative/reverse position index of a punctuation symbol (!?,\") that is:\n",
        "    (i) typically indicative of the end of a sentence (\"sentence-terminating\"), and\n",
        "    (ii) closest to the end of the paragraph.\n",
        "\n",
        "    Returns 0 if no such punctuation symbol is present.\n",
        "\n",
        "    Parameters\n",
        "    ----------\n",
        "    paragraph : str\n",
        "        Paragraph from which the index of the last, sentence-terminating punctuation symbol is to be identified.\n",
        "\n",
        "    Returns\n",
        "    -------\n",
        "    idx : int\n",
        "        The negative/reverse position index of the last, sentence-terminating punctuation symbol in the given paragraph.\n",
        "    '''\n",
        "    # To-do: account for hard cases where sentences ends with single or double quotation marks.\n",
        "    for idx, char in enumerate(paragraph[::-1]):\n",
        "        if char in ['!','.','?']:\n",
        "            return -idx\n",
        "    return 0\n",
        "\n",
        "# Consider removing first sentence from generated paragraph?\n",
        "def remove_first_sentence(text):\n",
        "    first_sentence = sent_tokenize(text)[0]\n",
        "    text = text.lstrip(first_sentence+' ') # Remove first sentence\n",
        "    return text\n",
        "\n",
        "def create_paragraphing_html(text):\n",
        "    '''\n",
        "    Takes a paragraph with line breaks in Python ('\\n') and returns with line breaks in HTML ('<br>')\n",
        "\n",
        "    Parameters\n",
        "    ----------\n",
        "    text : str\n",
        "        Paragraph with line breaks in Python\n",
        "\n",
        "    Returns\n",
        "    -------\n",
        "    text : str\n",
        "        Paragraph with line breaks in html.\n",
        "    '''\n",
        "    return text.replace('\\n', '<br>')"
      ]
    },
    {
      "cell_type": "markdown",
      "metadata": {
        "id": "XsSoKcVE2wEM"
      },
      "source": [
        "### (viii) General Pipeline"
      ]
    },
    {
      "cell_type": "code",
      "execution_count": 48,
      "metadata": {
        "id": "IOSAmJis2wEM"
      },
      "outputs": [],
      "source": [
        "client = GrammarBotClient() # create client beforehand"
      ]
    },
    {
      "cell_type": "code",
      "execution_count": 49,
      "metadata": {
        "id": "q5091xhY2wEM"
      },
      "outputs": [],
      "source": [
        "def preprocess(text):\n",
        "    '''\n",
        "    Preprocesses input text by\n",
        "    (i) removing angular brackets (if any),\n",
        "    (ii) correcting grammar, and\n",
        "    (iii) capitalising first word.\n",
        "\n",
        "    Parameters\n",
        "    ----------\n",
        "    text : str\n",
        "        Text to be preprocessed.\n",
        "\n",
        "    Returns\n",
        "    -------\n",
        "    text : str\n",
        "        Preprocessed text.\n",
        "    '''\n",
        "    # Remove angular brackets\n",
        "    text = remove_angular_brackets(text)\n",
        "\n",
        "    # Converts into past tense\n",
        "    text = find_verbs(text)\n",
        "    text = convert_past_tense(text)\n",
        "\n",
        "    # Correct grammar\n",
        "    text = check_grammar(text)\n",
        "\n",
        "    # Capitalize\n",
        "    text = text.strip().capitalize()\n",
        "\n",
        "    return text"
      ]
    },
    {
      "cell_type": "markdown",
      "metadata": {
        "id": "bcTp5fWB2wEM"
      },
      "source": [
        "# 1. Generate paragraph from sentence using GPT-2"
      ]
    },
    {
      "cell_type": "markdown",
      "metadata": {
        "id": "GyAuxBNV2wEM"
      },
      "source": [
        "**Libraries needed**\n",
        "- pip install tensorflow==2.3.0\n",
        "- pip install transformers"
      ]
    },
    {
      "cell_type": "code",
      "execution_count": 52,
      "metadata": {
        "id": "CDfdO0D32wEN"
      },
      "outputs": [],
      "source": [
        "from transformers import pipeline, set_seed"
      ]
    },
    {
      "cell_type": "code",
      "execution_count": 53,
      "metadata": {
        "id": "ULmEF-Bq2wEN"
      },
      "outputs": [],
      "source": [
        "## PARAGRAPH-GENERATING MODEL\n",
        "\n",
        "client = GrammarBotClient() # create grammar client beforehand\n",
        "\n",
        "def load_model():\n",
        "    '''\n",
        "    Loads and returns a pre-trained GPT-2 text-generator model (https://huggingface.co/gpt2)\n",
        "\n",
        "    Returns\n",
        "    -------\n",
        "    model : transformers.pipelines.TextGenerationPipeline\n",
        "        The pre-trained GPT-2 model\n",
        "    '''\n",
        "    model = pipeline('text-generation', model='gpt2')\n",
        "    set_seed(42)\n",
        "    return model\n",
        "\n",
        "\n",
        "def generate_story(input_text, model, max_length=100, use_narrative_hook=True):\n",
        "    '''\n",
        "    Returns a story generated using\n",
        "    (i) a pre-trained GPT-2 model, and\n",
        "    (ii) the input text.\n",
        "\n",
        "    The input text is automatically embellished with a narrative hook incorporated as the opening line.\n",
        "\n",
        "    The length of generated paragraph may be capped at a given number of words (\"max_length\"),\n",
        "    otherwise the default cap is 100 words.\n",
        "\n",
        "    Parameters\n",
        "    ----------\n",
        "    input_text : str\n",
        "        The seed text used to generate a paragraph using GPT-2 model.\n",
        "        It does not need to have a complete sentence.\n",
        "\n",
        "    max_length  : int\n",
        "        Maximum number of words of generated paragraph.\n",
        "\n",
        "    use_narrative_hook : boolean\n",
        "        Whether to create more dramatic, story-telling impact by adding a randomly-selected narrative hook\n",
        "        as the opening line (i.e before the input_text) before passing such text collectively into the GPT-2 model.\n",
        "\n",
        "    Returns\n",
        "    -------\n",
        "    paragraph : str\n",
        "        The paragraph generated using GPT-2 model (inclusive of input text).\n",
        "    '''\n",
        "    # Preprocess\n",
        "    input_text = preprocess(input_text)\n",
        "    if use_narrative_hook:\n",
        "        input_text = embellish_text(input_text)\n",
        "\n",
        "    # Produce\n",
        "    return generate_paragraph(input_text, model, max_length=max_length)\n",
        "\n",
        "\n",
        "def generate_paragraph(input_text, model, max_length=100):\n",
        "    '''\n",
        "    Returns a paragraph generated using\n",
        "    (i) a pre-trained GPT-2 model, and\n",
        "    (ii) an input text that is incorporated as the opening line.\n",
        "\n",
        "    The length of generated paragraph may be capped at a given number of words (\"max_length\"),\n",
        "    otherwise the default cap is 50 words.\n",
        "\n",
        "    Parameters\n",
        "    ----------\n",
        "    input_text : str\n",
        "        The seed text used to generate a paragraph using GPT-2 model.\n",
        "        It does not need to be a complete sentence, but the text must begin properly.\n",
        "\n",
        "    max_length  : int\n",
        "        Maximum number of words of generated paragraph.\n",
        "\n",
        "    Returns\n",
        "    -------\n",
        "    paragraph : str\n",
        "        The paragraph generated using GPT-2 model (inclusive of input text).\n",
        "    '''\n",
        "    # Preprocess\n",
        "    input_text = input_text.capitalize()\n",
        "\n",
        "    # Produce\n",
        "    paragraph = model(f\"{input_text}\", max_length=max_length, num_return_sequences=1)[0]['generated_text']\n",
        "    paragraph = remove_incomplete_sentence(paragraph)\n",
        "    paragraph = check_grammar(paragraph)\n",
        "    return paragraph"
      ]
    },
    {
      "cell_type": "code",
      "execution_count": 54,
      "metadata": {
        "colab": {
          "base_uri": "https://localhost:8080/",
          "height": 365,
          "referenced_widgets": [
            "6787a52d36ea45f88b9c3c6eea137aaa",
            "53a4072d62fc4ece9938944a01f513e4",
            "0a4ea5876bc0412dbdfc029d846e1935",
            "39e3feef03b84d7ea2322b98eea45d08",
            "79fc2bc84ca545b9a73809df7158bc2f",
            "1964cbe98fd64465bbac4eecf35f9774",
            "83275df548a4440a88d037f516e89933",
            "2a2dfd52609142e1bf9c50b856a2ba02",
            "fbc8ebfc1b524b14bf676f444d2677d1",
            "0fadbb50193c48d2bdb0696911e252b8",
            "0e9fbb0754bc4622a44760806271f43f",
            "fc0197ba19b44eb190ecb1e92d63501a",
            "306b9d13fe3f4f8d93fa8d6437c74738",
            "7bb353846c56412e91dd8688e533fedb",
            "d4561d4879944689975d58ffca1f0dd4",
            "da1597a01a124a8d92c593654e45622c",
            "cb5df640a2344fad83bda5230a04ae2d",
            "e9b1aff44b8b4a5192d6d243d8bb7b09",
            "4cc60230e94a4099b66390987024d7d2",
            "62a22879c791470fbee877f671df8c52",
            "59ae5dbd104940aca9a9a5617d81cbea",
            "2ed312339dac4b8e82b08c21482b4888",
            "b400520005ef492b85749641e8faf25b",
            "a6515dd7db0046b3817b6204dee2719f",
            "c0dee0a1a6d143cc90cba1e9f30fba93",
            "25e1848aa5474d76891da3883e1f94d3",
            "c9278452526c48209acb3b64bf9450a6",
            "b5967ee2913b46d8b91cf36659adad2c",
            "08877761b2cb49d6b86dd5cf2b9a8f7c",
            "791a657407674472a2a93165b93aeefa",
            "238c7d8e11f042b78904f1d9b81bd542",
            "25264c73a35047c6bed29e8257e66e7d",
            "dbca58fcda064c8382ca9c4c48c5d585",
            "ca9856bac38c4d4da9992592f6280558",
            "fce5e044afd94b78945729d3eb833fee",
            "9c3125a3d2d34796b628e760dc1bc2ce",
            "5cd8317bd20d430b8225cecda7a98b08",
            "ef40e5e3fc1149c695f7a80667a9a2b2",
            "6418820e36334d81be33dbbe4d17eaf4",
            "8ecd1e8baffd4fe2bcbbd447ee36f86a",
            "d4b12a12e1cb4799a407d91eadf68a44",
            "87d32ff9ca774aaea1d1db811d825044",
            "779768153606482ca63a8c2a04946f32",
            "6e566ee1d473463f8af04f04938fb0ad",
            "ece8ef052bd94ddcb86e0aa98f40ddb3",
            "94f504674d9a41ceab530a0fc952887a",
            "780a6a9170754fd5b7b133e52a1aa9aa",
            "307a0716f75840d9b34d67e4779f2283",
            "0c83abc5d54b4a6b97d25dcd16198a4b",
            "3bcbf7cddf9743279be2a7be3c75f58c",
            "c9c4e102ae084a0bbdb4189158369f15",
            "bd8ac05458584aa183b9f3747e9eac43",
            "c4b095e333694af582e1a98eb15192e6",
            "38b3645e70784c1e80135e6d10b16845",
            "285cb2da30ba49b98b7577fd8ac0efb8",
            "752f6e11546b4f4aa2419fe75337c573",
            "cadaa7410b92465e955fb870c806480e",
            "06054732fc45420e88f43c66ecb080be",
            "1ed0e7c9444d4d98993798890e7835f4",
            "d33780c4b8e543c4b9bd6ee6c315b416",
            "e340b9e20a1445039705de2f672f2314",
            "2519d2b7830145c88a44e21a1d55e925",
            "0139c8afade8407786eb3e48acf8e169",
            "056b1022c4da4546b29c49c1af8ab246",
            "c2b1966e15104beeaac2a93dbc40a7c5",
            "1336bbc8476a44699d67c97d29bc5a50",
            "67ddce3a730b4b1fa3bdf0baa17f0f4e",
            "505df52acb3c4338ba7cb320092e7cf8",
            "bda2638eab874341a5a38698ad7dea91",
            "6322f805b63e464b88cc5ce71daa79fe",
            "7f4b7a954eb74567a49b890139a8794e",
            "87655ea378d04dffab8883af33c34a99",
            "0eda0aea4b6b4a95aef6488169338d44",
            "723f44b1df7147cc9f269378f31320db",
            "bb2dbdc974ed4494b8aeeb4e09216608",
            "00b17f9d3d8f4c99b74462bdd40d84ad",
            "652162e0f5b848b0aa528e43748bcf99"
          ]
        },
        "id": "DoAzxAy22wEN",
        "outputId": "06c06b1f-383c-4407-839b-5a30f704cf03"
      },
      "outputs": [
        {
          "output_type": "stream",
          "name": "stderr",
          "text": [
            "/usr/local/lib/python3.10/dist-packages/huggingface_hub/utils/_token.py:89: UserWarning: \n",
            "The secret `HF_TOKEN` does not exist in your Colab secrets.\n",
            "To authenticate with the Hugging Face Hub, create a token in your settings tab (https://huggingface.co/settings/tokens), set it as secret in your Google Colab and restart your session.\n",
            "You will be able to reuse this secret in all of your notebooks.\n",
            "Please note that authentication is recommended but still optional to access public models or datasets.\n",
            "  warnings.warn(\n"
          ]
        },
        {
          "output_type": "display_data",
          "data": {
            "text/plain": [
              "config.json:   0%|          | 0.00/665 [00:00<?, ?B/s]"
            ],
            "application/vnd.jupyter.widget-view+json": {
              "version_major": 2,
              "version_minor": 0,
              "model_id": "6787a52d36ea45f88b9c3c6eea137aaa"
            }
          },
          "metadata": {}
        },
        {
          "output_type": "display_data",
          "data": {
            "text/plain": [
              "model.safetensors:   0%|          | 0.00/548M [00:00<?, ?B/s]"
            ],
            "application/vnd.jupyter.widget-view+json": {
              "version_major": 2,
              "version_minor": 0,
              "model_id": "fc0197ba19b44eb190ecb1e92d63501a"
            }
          },
          "metadata": {}
        },
        {
          "output_type": "display_data",
          "data": {
            "text/plain": [
              "generation_config.json:   0%|          | 0.00/124 [00:00<?, ?B/s]"
            ],
            "application/vnd.jupyter.widget-view+json": {
              "version_major": 2,
              "version_minor": 0,
              "model_id": "b400520005ef492b85749641e8faf25b"
            }
          },
          "metadata": {}
        },
        {
          "output_type": "display_data",
          "data": {
            "text/plain": [
              "tokenizer_config.json:   0%|          | 0.00/26.0 [00:00<?, ?B/s]"
            ],
            "application/vnd.jupyter.widget-view+json": {
              "version_major": 2,
              "version_minor": 0,
              "model_id": "ca9856bac38c4d4da9992592f6280558"
            }
          },
          "metadata": {}
        },
        {
          "output_type": "display_data",
          "data": {
            "text/plain": [
              "vocab.json:   0%|          | 0.00/1.04M [00:00<?, ?B/s]"
            ],
            "application/vnd.jupyter.widget-view+json": {
              "version_major": 2,
              "version_minor": 0,
              "model_id": "ece8ef052bd94ddcb86e0aa98f40ddb3"
            }
          },
          "metadata": {}
        },
        {
          "output_type": "display_data",
          "data": {
            "text/plain": [
              "merges.txt:   0%|          | 0.00/456k [00:00<?, ?B/s]"
            ],
            "application/vnd.jupyter.widget-view+json": {
              "version_major": 2,
              "version_minor": 0,
              "model_id": "752f6e11546b4f4aa2419fe75337c573"
            }
          },
          "metadata": {}
        },
        {
          "output_type": "display_data",
          "data": {
            "text/plain": [
              "tokenizer.json:   0%|          | 0.00/1.36M [00:00<?, ?B/s]"
            ],
            "application/vnd.jupyter.widget-view+json": {
              "version_major": 2,
              "version_minor": 0,
              "model_id": "67ddce3a730b4b1fa3bdf0baa17f0f4e"
            }
          },
          "metadata": {}
        }
      ],
      "source": [
        "model = load_model()"
      ]
    },
    {
      "cell_type": "markdown",
      "metadata": {
        "id": "DpXF19cp2wEO"
      },
      "source": [
        "## Samples"
      ]
    },
    {
      "cell_type": "markdown",
      "metadata": {
        "id": "5ECWAvuc2wEO"
      },
      "source": [
        "### (i) Generate paragraphs using partial sentences"
      ]
    },
    {
      "cell_type": "code",
      "execution_count": 56,
      "metadata": {
        "colab": {
          "base_uri": "https://localhost:8080/"
        },
        "id": "XSLPGYu22wES",
        "outputId": "bf6ed0ab-f276-4799-f625-d659936b6bdd"
      },
      "outputs": [
        {
          "output_type": "stream",
          "name": "stderr",
          "text": [
            "Setting `pad_token_id` to `eos_token_id`:50256 for open-end generation.\n"
          ]
        },
        {
          "output_type": "stream",
          "name": "stdout",
          "text": [
            "My dog is the main motivator for what I've been doing for years now, and will continue to do so for many many years to come.\"\n",
            "\n",
            "This was my second time running, and I can't tell you how many times I've run with a dog. Every time I do it, my husband helps make sure that it's OK and as soon as possible his dog is at home when it needs to be again.\n"
          ]
        }
      ],
      "source": [
        "sample = 'My dog is'\n",
        "print(generate_paragraph(sample, model))"
      ]
    },
    {
      "cell_type": "code",
      "execution_count": 57,
      "metadata": {
        "colab": {
          "base_uri": "https://localhost:8080/"
        },
        "id": "spmqUmbM2wET",
        "outputId": "9f9464a3-47e6-41f9-a787-defaa582024e"
      },
      "outputs": [
        {
          "output_type": "stream",
          "name": "stderr",
          "text": [
            "Setting `pad_token_id` to `eos_token_id`:50256 for open-end generation.\n"
          ]
        },
        {
          "output_type": "stream",
          "name": "stdout",
          "text": [
            "The secret of life is the quality and the beauty of ourselves.\" -- Charles Whitman\n",
            "\n",
            "How does God love us?\n",
            "\n",
            "When we look back we can see that God has the strength of the human spirit, the strength of imagination, and the ability to love and know us all the time. But there's a catch. God doesn't love the \"normal human being\" the way we need to be loved.\n"
          ]
        }
      ],
      "source": [
        "sample = 'The secret of life'\n",
        "print(generate_paragraph(sample, model))"
      ]
    },
    {
      "cell_type": "markdown",
      "metadata": {
        "id": "-VQDQr592wET"
      },
      "source": [
        "### (ii) Generate paragraphs using captions from TensorFlow Image Captioning"
      ]
    },
    {
      "cell_type": "code",
      "execution_count": 58,
      "metadata": {
        "colab": {
          "base_uri": "https://localhost:8080/"
        },
        "id": "IKiz5sVt2wET",
        "outputId": "e4592754-a98f-4b1c-8f0f-ca4ec87e0636"
      },
      "outputs": [
        {
          "output_type": "stream",
          "name": "stderr",
          "text": [
            "Setting `pad_token_id` to `eos_token_id`:50256 for open-end generation.\n",
            "Setting `pad_token_id` to `eos_token_id`:50256 for open-end generation.\n"
          ]
        },
        {
          "output_type": "stream",
          "name": "stdout",
          "text": [
            "Man in front of a big podium, saying 'I didn't get enough attention and I just came in and said 'I'm going to do this.' I was disappointed that we didn't get the positive reception I wanted.' \"\n",
            "\n",
            "Lifelong NBA Hall of Famer and current Cleveland Cavaliers coach, James is a lifelong advocate for the franchise.\n",
            "\n",
            "\"He knows the fans. He is a fan just like anyone,\" Fultz said. \n",
            "\n",
            "The person is riding a surfboard in the ocean. He or she has experienced what is referred to as the Great Rift Loop. It is one of three large \"loop\" regions around the world and the one of the largest. It spans the whole world. The people in the Great Rift Loop have been riding for over 12,000 years all along the way in search of food, minerals, and fuel. However, by the 1930's these people had to face the prospect of extinction. \n",
            "\n"
          ]
        }
      ],
      "source": [
        "captions = [\"man in front of a big podium\",\n",
        "            \"the person is riding a surfboard in the ocean\"]\n",
        "\n",
        "for c in captions:\n",
        "    paragraph = generate_paragraph(c, model)\n",
        "    print(paragraph,'\\n')"
      ]
    },
    {
      "cell_type": "markdown",
      "metadata": {
        "id": "8MA_D2tD2wEU"
      },
      "source": [
        "### (iii) Generate a profile description based on a person's name"
      ]
    },
    {
      "cell_type": "code",
      "execution_count": 59,
      "metadata": {
        "colab": {
          "base_uri": "https://localhost:8080/"
        },
        "id": "dO1MKsPC2wEU",
        "outputId": "0c1ed15a-f366-4a36-b7e8-bd7b3d2db743"
      },
      "outputs": [
        {
          "output_type": "stream",
          "name": "stderr",
          "text": [
            "Setting `pad_token_id` to `eos_token_id`:50256 for open-end generation.\n",
            "Setting `pad_token_id` to `eos_token_id`:50256 for open-end generation.\n"
          ]
        },
        {
          "output_type": "stream",
          "name": "stdout",
          "text": [
            "Josephine lin is one of just a few male and female detectives assigned to protect American Samoa.\n"
          ]
        },
        {
          "output_type": "stream",
          "name": "stderr",
          "text": [
            "Setting `pad_token_id` to `eos_token_id`:50256 for open-end generation.\n"
          ]
        },
        {
          "output_type": "stream",
          "name": "stdout",
          "text": [
            "Rebecca lim is the Director of the National Youth Advocacy Forum for Kids, and she helped develop a campaign against bullying in schools.\n"
          ]
        },
        {
          "output_type": "stream",
          "name": "stderr",
          "text": [
            "Setting `pad_token_id` to `eos_token_id`:50256 for open-end generation.\n"
          ]
        },
        {
          "output_type": "stream",
          "name": "stdout",
          "text": [
            "Guan kiong is known as \"the golden carrot of the kingdom of China.\n"
          ]
        },
        {
          "output_type": "stream",
          "name": "stderr",
          "text": [
            "Setting `pad_token_id` to `eos_token_id`:50256 for open-end generation.\n"
          ]
        },
        {
          "output_type": "stream",
          "name": "stdout",
          "text": [
            "Chang xuan is so close so close and so close and so close and so close and so close and my heart gets strong and my left lung gets crushed\n",
            "Shaun tan is just that kind of product. It's a soft white and gives a nice, creamy texture.\n"
          ]
        }
      ],
      "source": [
        "# Generate profile description based on name\n",
        "\n",
        "names = ['Josephine Lin', 'Rebecca Lim', 'Guan Kiong', 'Chang Xuan', 'Shaun Tan']\n",
        "\n",
        "for name in names:\n",
        "    sentence = generate_paragraph(f\"{name} is\", model, max_length=32)\n",
        "    print(sentence)"
      ]
    },
    {
      "cell_type": "markdown",
      "metadata": {
        "id": "bcd7rcqO2wEU"
      },
      "source": [
        "### (iv) Generate STORIES based on image captions"
      ]
    },
    {
      "cell_type": "code",
      "execution_count": 60,
      "metadata": {
        "id": "8XQitHxF2wEU"
      },
      "outputs": [],
      "source": [
        "import pandas as pd"
      ]
    },
    {
      "cell_type": "markdown",
      "metadata": {
        "id": "jDZOb6Ln2wEU"
      },
      "source": [
        "#### Import image captions"
      ]
    },
    {
      "cell_type": "code",
      "execution_count": 61,
      "metadata": {
        "id": "vQIpR2pl2wEV"
      },
      "outputs": [],
      "source": [
        "df = pd.read_csv(\"img_captions_2000.csv\")\n",
        "df['0'] = df['0'].apply(remove_angular_brackets)"
      ]
    },
    {
      "cell_type": "markdown",
      "metadata": {
        "id": "5RPpvuQm2wEV"
      },
      "source": [
        "#### Mass sampling and testing on image captions df"
      ]
    },
    {
      "cell_type": "code",
      "execution_count": 62,
      "metadata": {
        "id": "3nsWc4Cw2wEV"
      },
      "outputs": [],
      "source": [
        "import time"
      ]
    },
    {
      "cell_type": "code",
      "execution_count": 63,
      "metadata": {
        "id": "M16k0OqA2wEV"
      },
      "outputs": [],
      "source": [
        "def print_stars(title):\n",
        "    print('='*len(title))\n",
        "    print(title)\n",
        "    print('='*len(title))"
      ]
    },
    {
      "cell_type": "code",
      "execution_count": 64,
      "metadata": {
        "id": "zlDMold82wEV"
      },
      "outputs": [],
      "source": [
        "def generate_story_from_random_df(df):\n",
        "\n",
        "    start = time.time()\n",
        "\n",
        "    print_stars('Original Caption')\n",
        "    sample_caption = df.sample(1)['0'].values[0]\n",
        "    print(f'\\n{sample_caption}\\n')\n",
        "\n",
        "    print_stars('Generated Story')\n",
        "    generated_story = generate_story(sample_caption, model, max_length=100, use_narrative_hook=True)\n",
        "    print(f'\\n{generated_story}\\n')\n",
        "\n",
        "    end = time.time()\n",
        "\n",
        "    print_stars('Time Taken')\n",
        "    print(f'\\nTime taken to generate story: {end - start} seconds\\n')"
      ]
    },
    {
      "cell_type": "code",
      "execution_count": 65,
      "metadata": {
        "colab": {
          "base_uri": "https://localhost:8080/"
        },
        "id": "RjeVw4Bo2wEW",
        "outputId": "d7a63db6-7d20-4cc1-a36c-d3fb2c64422a"
      },
      "outputs": [
        {
          "output_type": "stream",
          "name": "stderr",
          "text": [
            "Setting `pad_token_id` to `eos_token_id`:50256 for open-end generation.\n"
          ]
        },
        {
          "output_type": "stream",
          "name": "stdout",
          "text": [
            "================\n",
            "Original Caption\n",
            "================\n",
            "\n",
            "A surfer rides a wave in the water.\n",
            "\n",
            "===============\n",
            "Generated Story\n",
            "===============\n",
            "\n",
            "'you were a key eyewitness to this major accident. please tell our viewers what you saw.'\n",
            "\n",
            "a surfer rides a wave in the water. According to the report, a surfer at the scene of the accident on Wednesday near Epping told authorities the incident occurred during one of the most chaotic seaside days of his life.\n",
            "\n",
            "==========\n",
            "Time Taken\n",
            "==========\n",
            "\n",
            "Time taken to generate story: 4.113739967346191 seconds\n",
            "\n"
          ]
        }
      ],
      "source": [
        "generate_story_from_random_df(df)"
      ]
    },
    {
      "cell_type": "code",
      "execution_count": 66,
      "metadata": {
        "colab": {
          "base_uri": "https://localhost:8080/"
        },
        "id": "u04OUoIu2wEW",
        "outputId": "e42ca751-46c9-41ca-a01b-a060fe118a86"
      },
      "outputs": [
        {
          "output_type": "stream",
          "name": "stderr",
          "text": [
            "Setting `pad_token_id` to `eos_token_id`:50256 for open-end generation.\n"
          ]
        },
        {
          "output_type": "stream",
          "name": "stdout",
          "text": [
            "================\n",
            "Original Caption\n",
            "================\n",
            "\n",
            "a close up of a bucket of apples\n",
            "\n",
            "===============\n",
            "Generated Story\n",
            "===============\n",
            "\n",
            "It was the year covid-19 pandemic finally ended.\n",
            "\n",
            "==========\n",
            "Time Taken\n",
            "==========\n",
            "\n",
            "Time taken to generate story: 5.0688395500183105 seconds\n",
            "\n"
          ]
        }
      ],
      "source": [
        "generate_story_from_random_df(df)"
      ]
    },
    {
      "cell_type": "code",
      "execution_count": 67,
      "metadata": {
        "colab": {
          "base_uri": "https://localhost:8080/"
        },
        "id": "l4Cra1GD2wEW",
        "outputId": "14958f1a-f331-45f5-ccdc-1a9fa00af18f"
      },
      "outputs": [
        {
          "output_type": "stream",
          "name": "stdout",
          "text": [
            "================\n",
            "Original Caption\n",
            "================\n",
            "\n",
            "A giraffe standing near branches inside an enclosure.\n",
            "\n",
            "===============\n",
            "Generated Story\n",
            "===============\n"
          ]
        },
        {
          "output_type": "stream",
          "name": "stderr",
          "text": [
            "Setting `pad_token_id` to `eos_token_id`:50256 for open-end generation.\n"
          ]
        },
        {
          "output_type": "stream",
          "name": "stdout",
          "text": [
            "\n",
            "'welcome to the bad place,' the elder said.\n",
            "\n",
            "a giraffe was standing near branches inside an enclosure.\n",
            "\n",
            "Some wildlife experts are puzzled by his behavior.\n",
            "\n",
            "'I've seen it a lot before, but it seems so quiet. The reason I got to say that was to show that these animals do behave exactly like human beings were so that I could point out that they do all kind of things with their mouths.\n",
            "\n",
            "==========\n",
            "Time Taken\n",
            "==========\n",
            "\n",
            "Time taken to generate story: 4.436809301376343 seconds\n",
            "\n"
          ]
        }
      ],
      "source": [
        "generate_story_from_random_df(df)"
      ]
    },
    {
      "cell_type": "markdown",
      "metadata": {
        "id": "iHw7Fb592wEW"
      },
      "source": [
        "# 2. Generate sentence from keyword(s) using Markov Chain?"
      ]
    },
    {
      "cell_type": "markdown",
      "metadata": {
        "id": "T7kXkGQK2wEW"
      },
      "source": [
        "**Libraries needed**\n",
        "\n",
        "- pip install nltk\n",
        "\n",
        "- pip install randomsentence\n",
        "<br>(Source: https://github.com/patarapolw/randomsentence)\n",
        "        \n",
        "- Get Brown Corpus\n",
        "<br> (Source: https://raw.githubusercontent.com/nltk/nltk_data/gh-pages/packages/corpora/brown.zip)\n",
        "<br><br>Place the zip file into the folder **nltk -> corpora**, and unzip the file"
      ]
    },
    {
      "cell_type": "code",
      "execution_count": null,
      "metadata": {
        "id": "RXuMRVoy2wEX"
      },
      "outputs": [],
      "source": [
        "from randomsentence.sentence_maker import SentenceMaker\n",
        "from randomsentence.sentence_tools import SentenceTools\n",
        "\n",
        "def generate_sentence_from_keywords(keywords):\n",
        "    '''\n",
        "    Generate sentence from a list of keyword(s) using Markov Chain and Brown Corpus\n",
        "\n",
        "    Parameters\n",
        "    ----------\n",
        "    keywords : list of str\n",
        "        A list of keywords from which a sentence is generated using Markov Chain and Brown Corpus\n",
        "\n",
        "    Returns\n",
        "    -------\n",
        "    sentence : str\n",
        "        The generated sentence\n",
        "    '''\n",
        "    sentence_maker = SentenceMaker()\n",
        "    tagged_sentence = sentence_maker.from_keyword_list(keywords)\n",
        "    sentence_tools = SentenceTools()\n",
        "    sentence = sentence_tools.detokenize_tagged(tagged_sentence)\n",
        "    return sentence"
      ]
    },
    {
      "cell_type": "code",
      "execution_count": null,
      "metadata": {
        "id": "E__RnYz_2wEX",
        "outputId": "509596c4-c6c0-4157-e48f-7332147f16f8"
      },
      "outputs": [
        {
          "name": "stderr",
          "output_type": "stream",
          "text": [
            "stdbuf was not found; communication with perl may hang due to stdio buffering.\n"
          ]
        },
        {
          "data": {
            "text/plain": [
              "'For pancakes'"
            ]
          },
          "execution_count": 250,
          "metadata": {},
          "output_type": "execute_result"
        }
      ],
      "source": [
        "generate_sentence_from_keywords(['pancakes'])"
      ]
    },
    {
      "cell_type": "code",
      "execution_count": null,
      "metadata": {
        "id": "3pmGTGiF2wEX",
        "outputId": "8b1ecd86-6577-4275-ddf3-db0d244e7094"
      },
      "outputs": [
        {
          "name": "stderr",
          "output_type": "stream",
          "text": [
            "stdbuf was not found; communication with perl may hang due to stdio buffering.\n"
          ]
        },
        {
          "data": {
            "text/plain": [
              "'She looked out at the baby smile'"
            ]
          },
          "execution_count": 251,
          "metadata": {},
          "output_type": "execute_result"
        }
      ],
      "source": [
        "generate_sentence_from_keywords(['baby', 'smile'])"
      ]
    },
    {
      "cell_type": "code",
      "execution_count": null,
      "metadata": {
        "id": "5OAjBxJN2wEX",
        "outputId": "107c3b55-8891-42c7-cb8e-3f032c46094a"
      },
      "outputs": [
        {
          "name": "stderr",
          "output_type": "stream",
          "text": [
            "stdbuf was not found; communication with perl may hang due to stdio buffering.\n"
          ]
        },
        {
          "data": {
            "text/plain": [
              "'No, Bari was out of Donald Trump'"
            ]
          },
          "execution_count": 252,
          "metadata": {},
          "output_type": "execute_result"
        }
      ],
      "source": [
        "generate_sentence_from_keywords(['Donald Trump'])"
      ]
    },
    {
      "cell_type": "markdown",
      "metadata": {
        "id": "L_0-cGuX2wEY"
      },
      "source": [
        "# 3. Experiment combining both approaches (\"GPT-2\") and (\"Markov\")"
      ]
    },
    {
      "cell_type": "markdown",
      "metadata": {
        "id": "uGz0ZsBs2wEY"
      },
      "source": [
        "- **Note:** Not needed for our purposes, we won't be using Markov to generate sentences\n",
        "- Just an experimentation"
      ]
    },
    {
      "cell_type": "code",
      "execution_count": null,
      "metadata": {
        "id": "8MYH2AZc2wEY",
        "outputId": "517e439f-eb04-4e87-8cb6-e3b458f3f818"
      },
      "outputs": [
        {
          "name": "stderr",
          "output_type": "stream",
          "text": [
            "stdbuf was not found; communication with perl may hang due to stdio buffering.\n",
            "Setting `pad_token_id` to 50256 (first `eos_token_id`) to generate sequence\n"
          ]
        },
        {
          "name": "stdout",
          "output_type": "stream",
          "text": [
            "He took several large cycling races as a freshman, but didn't go anywhere, but the biggest race in his senior year was the US Open (the final for those two men). \n",
            "\n"
          ]
        },
        {
          "name": "stderr",
          "output_type": "stream",
          "text": [
            "stdbuf was not found; communication with perl may hang due to stdio buffering.\n",
            "Setting `pad_token_id` to 50256 (first `eos_token_id`) to generate sequence\n"
          ]
        },
        {
          "name": "stdout",
          "output_type": "stream",
          "text": [
            "Morgan immediately disposed his sunbathing, but it was soon discovered that he remained asleep on the top of the ladder. Later that same afternoon he awoke to a great shock, being told, to be prepared for the storm. \n",
            "\n"
          ]
        }
      ],
      "source": [
        "keywords = ['cycling', 'sun']\n",
        "\n",
        "for k in keywords:\n",
        "    sentence = generate_sentence_from_keywords([k])\n",
        "    paragraph = generate_paragraph(sentence, model)\n",
        "    print(paragraph,'\\n')"
      ]
    },
    {
      "cell_type": "markdown",
      "metadata": {
        "id": "Op_d97VI2wEY"
      },
      "source": [
        "#### With Narrative Hook"
      ]
    },
    {
      "cell_type": "markdown",
      "metadata": {
        "id": "LQldk9RD2wEY"
      },
      "source": [
        "..."
      ]
    },
    {
      "cell_type": "markdown",
      "metadata": {
        "id": "TbMkl-5R2wEZ"
      },
      "source": [
        "#### Without Narrative Hook"
      ]
    },
    {
      "cell_type": "code",
      "execution_count": null,
      "metadata": {
        "id": "FOKtbXoO2wEZ"
      },
      "outputs": [],
      "source": [
        "# Take a random sample of image captions and generate paragraphs using\n",
        "# (i) Markov Chain (on identified entities) + Gpt-2,\n",
        "# (ii) Gpt-2 only.\n",
        "\n",
        "# def generate_and_compare_captions(df):\n",
        "#     for idx, text in enumerate(df.sample(5)[\"0\"].values):\n",
        "#         print(f'({idx+1}) Original text:', text, '\\n')\n",
        "#         nouns = extract_nouns(text)\n",
        "#         sentence = generate_sentence_from_keywords(nouns)\n",
        "#         markov = generate_paragraph(sentence, model, max_length=100)\n",
        "#         print('\\t(i) Markov & GPT-2:', markov, '\\n')\n",
        "#         gpt2 = generate_paragraph(text, model, max_length=100)\n",
        "#         print('\\t(ii) GPT-2 Only:', gpt2, '\\n')\n",
        "#         print('\\n')"
      ]
    },
    {
      "cell_type": "markdown",
      "metadata": {
        "id": "FnCO1__62wEZ"
      },
      "source": [
        "# 5. Run Time"
      ]
    },
    {
      "cell_type": "code",
      "execution_count": null,
      "metadata": {
        "id": "SqCBy4Sk2wEZ"
      },
      "outputs": [],
      "source": [
        "df = pd.read_csv(\"img_captions_2000.csv\")"
      ]
    },
    {
      "cell_type": "code",
      "execution_count": null,
      "metadata": {
        "colab": {
          "referenced_widgets": [
            "71679d1f1b974d39a21e46d766f35217"
          ]
        },
        "id": "ECX3k7hx2wEZ",
        "outputId": "4c85d43a-3730-44cf-c308-95809dfca3bf"
      },
      "outputs": [
        {
          "data": {
            "application/vnd.jupyter.widget-view+json": {
              "model_id": "71679d1f1b974d39a21e46d766f35217",
              "version_major": 2,
              "version_minor": 0
            },
            "text/plain": [
              "HBox(children=(FloatProgress(value=0.0, description='Downloading', max=230.0, style=ProgressStyle(description_…"
            ]
          },
          "metadata": {},
          "output_type": "display_data"
        },
        {
          "name": "stdout",
          "output_type": "stream",
          "text": [
            "\n",
            "\n",
            "Time taken to import library and initiate model: 27.2 seconds\n",
            "\n"
          ]
        },
        {
          "name": "stderr",
          "output_type": "stream",
          "text": [
            "Setting `pad_token_id` to 50256 (first `eos_token_id`) to generate sequence\n"
          ]
        },
        {
          "name": "stdout",
          "output_type": "stream",
          "text": [
            "\n",
            "Time taken to generate 1st story (100 words): 9.4 seconds\n",
            "\n"
          ]
        },
        {
          "name": "stderr",
          "output_type": "stream",
          "text": [
            "Setting `pad_token_id` to 50256 (first `eos_token_id`) to generate sequence\n"
          ]
        },
        {
          "name": "stdout",
          "output_type": "stream",
          "text": [
            "\n",
            "Time taken to generate 2nd story (150 words): 18.8 seconds\n",
            "\n"
          ]
        }
      ],
      "source": [
        "# # Statistics on run time\n",
        "\n",
        "# start = time.time()\n",
        "\n",
        "# from src import gpt2\n",
        "\n",
        "# model = gpt2.load_model()\n",
        "\n",
        "# initiate_model = time.time()\n",
        "\n",
        "# print(f'\\nTime taken to import library and initiate model: {initiate_model - start:.1f} seconds\\n')\n",
        "\n",
        "# input_text = df.sample(1)['0'].values[0]\n",
        "\n",
        "# gpt2.generate_story(input_text, model, max_length=100, use_narrative_hook=True)\n",
        "\n",
        "# first_attempt = time.time()\n",
        "\n",
        "# print(f'\\nTime taken to generate 1st story (100 words): {first_attempt - initiate_model:.1f} seconds\\n')\n",
        "\n",
        "# input_text = df.sample(1)['0'].values[0]\n",
        "\n",
        "# gpt2.generate_story(input_text, model, max_length=150, use_narrative_hook=True)\n",
        "\n",
        "# second_attempt = time.time()\n",
        "\n",
        "# print(f'\\nTime taken to generate 2nd story (150 words): {second_attempt - first_attempt:.1f} seconds\\n')"
      ]
    }
  ],
  "metadata": {
    "kernelspec": {
      "display_name": "Python 3",
      "language": "python",
      "name": "python3"
    },
    "language_info": {
      "codemirror_mode": {
        "name": "ipython",
        "version": 3
      },
      "file_extension": ".py",
      "mimetype": "text/x-python",
      "name": "python",
      "nbconvert_exporter": "python",
      "pygments_lexer": "ipython3",
      "version": "3.8.3"
    },
    "colab": {
      "provenance": [],
      "include_colab_link": true
    },
    "widgets": {
      "application/vnd.jupyter.widget-state+json": {
        "6787a52d36ea45f88b9c3c6eea137aaa": {
          "model_module": "@jupyter-widgets/controls",
          "model_name": "HBoxModel",
          "model_module_version": "1.5.0",
          "state": {
            "_dom_classes": [],
            "_model_module": "@jupyter-widgets/controls",
            "_model_module_version": "1.5.0",
            "_model_name": "HBoxModel",
            "_view_count": null,
            "_view_module": "@jupyter-widgets/controls",
            "_view_module_version": "1.5.0",
            "_view_name": "HBoxView",
            "box_style": "",
            "children": [
              "IPY_MODEL_53a4072d62fc4ece9938944a01f513e4",
              "IPY_MODEL_0a4ea5876bc0412dbdfc029d846e1935",
              "IPY_MODEL_39e3feef03b84d7ea2322b98eea45d08"
            ],
            "layout": "IPY_MODEL_79fc2bc84ca545b9a73809df7158bc2f"
          }
        },
        "53a4072d62fc4ece9938944a01f513e4": {
          "model_module": "@jupyter-widgets/controls",
          "model_name": "HTMLModel",
          "model_module_version": "1.5.0",
          "state": {
            "_dom_classes": [],
            "_model_module": "@jupyter-widgets/controls",
            "_model_module_version": "1.5.0",
            "_model_name": "HTMLModel",
            "_view_count": null,
            "_view_module": "@jupyter-widgets/controls",
            "_view_module_version": "1.5.0",
            "_view_name": "HTMLView",
            "description": "",
            "description_tooltip": null,
            "layout": "IPY_MODEL_1964cbe98fd64465bbac4eecf35f9774",
            "placeholder": "​",
            "style": "IPY_MODEL_83275df548a4440a88d037f516e89933",
            "value": "config.json: 100%"
          }
        },
        "0a4ea5876bc0412dbdfc029d846e1935": {
          "model_module": "@jupyter-widgets/controls",
          "model_name": "FloatProgressModel",
          "model_module_version": "1.5.0",
          "state": {
            "_dom_classes": [],
            "_model_module": "@jupyter-widgets/controls",
            "_model_module_version": "1.5.0",
            "_model_name": "FloatProgressModel",
            "_view_count": null,
            "_view_module": "@jupyter-widgets/controls",
            "_view_module_version": "1.5.0",
            "_view_name": "ProgressView",
            "bar_style": "success",
            "description": "",
            "description_tooltip": null,
            "layout": "IPY_MODEL_2a2dfd52609142e1bf9c50b856a2ba02",
            "max": 665,
            "min": 0,
            "orientation": "horizontal",
            "style": "IPY_MODEL_fbc8ebfc1b524b14bf676f444d2677d1",
            "value": 665
          }
        },
        "39e3feef03b84d7ea2322b98eea45d08": {
          "model_module": "@jupyter-widgets/controls",
          "model_name": "HTMLModel",
          "model_module_version": "1.5.0",
          "state": {
            "_dom_classes": [],
            "_model_module": "@jupyter-widgets/controls",
            "_model_module_version": "1.5.0",
            "_model_name": "HTMLModel",
            "_view_count": null,
            "_view_module": "@jupyter-widgets/controls",
            "_view_module_version": "1.5.0",
            "_view_name": "HTMLView",
            "description": "",
            "description_tooltip": null,
            "layout": "IPY_MODEL_0fadbb50193c48d2bdb0696911e252b8",
            "placeholder": "​",
            "style": "IPY_MODEL_0e9fbb0754bc4622a44760806271f43f",
            "value": " 665/665 [00:00&lt;00:00, 37.6kB/s]"
          }
        },
        "79fc2bc84ca545b9a73809df7158bc2f": {
          "model_module": "@jupyter-widgets/base",
          "model_name": "LayoutModel",
          "model_module_version": "1.2.0",
          "state": {
            "_model_module": "@jupyter-widgets/base",
            "_model_module_version": "1.2.0",
            "_model_name": "LayoutModel",
            "_view_count": null,
            "_view_module": "@jupyter-widgets/base",
            "_view_module_version": "1.2.0",
            "_view_name": "LayoutView",
            "align_content": null,
            "align_items": null,
            "align_self": null,
            "border": null,
            "bottom": null,
            "display": null,
            "flex": null,
            "flex_flow": null,
            "grid_area": null,
            "grid_auto_columns": null,
            "grid_auto_flow": null,
            "grid_auto_rows": null,
            "grid_column": null,
            "grid_gap": null,
            "grid_row": null,
            "grid_template_areas": null,
            "grid_template_columns": null,
            "grid_template_rows": null,
            "height": null,
            "justify_content": null,
            "justify_items": null,
            "left": null,
            "margin": null,
            "max_height": null,
            "max_width": null,
            "min_height": null,
            "min_width": null,
            "object_fit": null,
            "object_position": null,
            "order": null,
            "overflow": null,
            "overflow_x": null,
            "overflow_y": null,
            "padding": null,
            "right": null,
            "top": null,
            "visibility": null,
            "width": null
          }
        },
        "1964cbe98fd64465bbac4eecf35f9774": {
          "model_module": "@jupyter-widgets/base",
          "model_name": "LayoutModel",
          "model_module_version": "1.2.0",
          "state": {
            "_model_module": "@jupyter-widgets/base",
            "_model_module_version": "1.2.0",
            "_model_name": "LayoutModel",
            "_view_count": null,
            "_view_module": "@jupyter-widgets/base",
            "_view_module_version": "1.2.0",
            "_view_name": "LayoutView",
            "align_content": null,
            "align_items": null,
            "align_self": null,
            "border": null,
            "bottom": null,
            "display": null,
            "flex": null,
            "flex_flow": null,
            "grid_area": null,
            "grid_auto_columns": null,
            "grid_auto_flow": null,
            "grid_auto_rows": null,
            "grid_column": null,
            "grid_gap": null,
            "grid_row": null,
            "grid_template_areas": null,
            "grid_template_columns": null,
            "grid_template_rows": null,
            "height": null,
            "justify_content": null,
            "justify_items": null,
            "left": null,
            "margin": null,
            "max_height": null,
            "max_width": null,
            "min_height": null,
            "min_width": null,
            "object_fit": null,
            "object_position": null,
            "order": null,
            "overflow": null,
            "overflow_x": null,
            "overflow_y": null,
            "padding": null,
            "right": null,
            "top": null,
            "visibility": null,
            "width": null
          }
        },
        "83275df548a4440a88d037f516e89933": {
          "model_module": "@jupyter-widgets/controls",
          "model_name": "DescriptionStyleModel",
          "model_module_version": "1.5.0",
          "state": {
            "_model_module": "@jupyter-widgets/controls",
            "_model_module_version": "1.5.0",
            "_model_name": "DescriptionStyleModel",
            "_view_count": null,
            "_view_module": "@jupyter-widgets/base",
            "_view_module_version": "1.2.0",
            "_view_name": "StyleView",
            "description_width": ""
          }
        },
        "2a2dfd52609142e1bf9c50b856a2ba02": {
          "model_module": "@jupyter-widgets/base",
          "model_name": "LayoutModel",
          "model_module_version": "1.2.0",
          "state": {
            "_model_module": "@jupyter-widgets/base",
            "_model_module_version": "1.2.0",
            "_model_name": "LayoutModel",
            "_view_count": null,
            "_view_module": "@jupyter-widgets/base",
            "_view_module_version": "1.2.0",
            "_view_name": "LayoutView",
            "align_content": null,
            "align_items": null,
            "align_self": null,
            "border": null,
            "bottom": null,
            "display": null,
            "flex": null,
            "flex_flow": null,
            "grid_area": null,
            "grid_auto_columns": null,
            "grid_auto_flow": null,
            "grid_auto_rows": null,
            "grid_column": null,
            "grid_gap": null,
            "grid_row": null,
            "grid_template_areas": null,
            "grid_template_columns": null,
            "grid_template_rows": null,
            "height": null,
            "justify_content": null,
            "justify_items": null,
            "left": null,
            "margin": null,
            "max_height": null,
            "max_width": null,
            "min_height": null,
            "min_width": null,
            "object_fit": null,
            "object_position": null,
            "order": null,
            "overflow": null,
            "overflow_x": null,
            "overflow_y": null,
            "padding": null,
            "right": null,
            "top": null,
            "visibility": null,
            "width": null
          }
        },
        "fbc8ebfc1b524b14bf676f444d2677d1": {
          "model_module": "@jupyter-widgets/controls",
          "model_name": "ProgressStyleModel",
          "model_module_version": "1.5.0",
          "state": {
            "_model_module": "@jupyter-widgets/controls",
            "_model_module_version": "1.5.0",
            "_model_name": "ProgressStyleModel",
            "_view_count": null,
            "_view_module": "@jupyter-widgets/base",
            "_view_module_version": "1.2.0",
            "_view_name": "StyleView",
            "bar_color": null,
            "description_width": ""
          }
        },
        "0fadbb50193c48d2bdb0696911e252b8": {
          "model_module": "@jupyter-widgets/base",
          "model_name": "LayoutModel",
          "model_module_version": "1.2.0",
          "state": {
            "_model_module": "@jupyter-widgets/base",
            "_model_module_version": "1.2.0",
            "_model_name": "LayoutModel",
            "_view_count": null,
            "_view_module": "@jupyter-widgets/base",
            "_view_module_version": "1.2.0",
            "_view_name": "LayoutView",
            "align_content": null,
            "align_items": null,
            "align_self": null,
            "border": null,
            "bottom": null,
            "display": null,
            "flex": null,
            "flex_flow": null,
            "grid_area": null,
            "grid_auto_columns": null,
            "grid_auto_flow": null,
            "grid_auto_rows": null,
            "grid_column": null,
            "grid_gap": null,
            "grid_row": null,
            "grid_template_areas": null,
            "grid_template_columns": null,
            "grid_template_rows": null,
            "height": null,
            "justify_content": null,
            "justify_items": null,
            "left": null,
            "margin": null,
            "max_height": null,
            "max_width": null,
            "min_height": null,
            "min_width": null,
            "object_fit": null,
            "object_position": null,
            "order": null,
            "overflow": null,
            "overflow_x": null,
            "overflow_y": null,
            "padding": null,
            "right": null,
            "top": null,
            "visibility": null,
            "width": null
          }
        },
        "0e9fbb0754bc4622a44760806271f43f": {
          "model_module": "@jupyter-widgets/controls",
          "model_name": "DescriptionStyleModel",
          "model_module_version": "1.5.0",
          "state": {
            "_model_module": "@jupyter-widgets/controls",
            "_model_module_version": "1.5.0",
            "_model_name": "DescriptionStyleModel",
            "_view_count": null,
            "_view_module": "@jupyter-widgets/base",
            "_view_module_version": "1.2.0",
            "_view_name": "StyleView",
            "description_width": ""
          }
        },
        "fc0197ba19b44eb190ecb1e92d63501a": {
          "model_module": "@jupyter-widgets/controls",
          "model_name": "HBoxModel",
          "model_module_version": "1.5.0",
          "state": {
            "_dom_classes": [],
            "_model_module": "@jupyter-widgets/controls",
            "_model_module_version": "1.5.0",
            "_model_name": "HBoxModel",
            "_view_count": null,
            "_view_module": "@jupyter-widgets/controls",
            "_view_module_version": "1.5.0",
            "_view_name": "HBoxView",
            "box_style": "",
            "children": [
              "IPY_MODEL_306b9d13fe3f4f8d93fa8d6437c74738",
              "IPY_MODEL_7bb353846c56412e91dd8688e533fedb",
              "IPY_MODEL_d4561d4879944689975d58ffca1f0dd4"
            ],
            "layout": "IPY_MODEL_da1597a01a124a8d92c593654e45622c"
          }
        },
        "306b9d13fe3f4f8d93fa8d6437c74738": {
          "model_module": "@jupyter-widgets/controls",
          "model_name": "HTMLModel",
          "model_module_version": "1.5.0",
          "state": {
            "_dom_classes": [],
            "_model_module": "@jupyter-widgets/controls",
            "_model_module_version": "1.5.0",
            "_model_name": "HTMLModel",
            "_view_count": null,
            "_view_module": "@jupyter-widgets/controls",
            "_view_module_version": "1.5.0",
            "_view_name": "HTMLView",
            "description": "",
            "description_tooltip": null,
            "layout": "IPY_MODEL_cb5df640a2344fad83bda5230a04ae2d",
            "placeholder": "​",
            "style": "IPY_MODEL_e9b1aff44b8b4a5192d6d243d8bb7b09",
            "value": "model.safetensors: 100%"
          }
        },
        "7bb353846c56412e91dd8688e533fedb": {
          "model_module": "@jupyter-widgets/controls",
          "model_name": "FloatProgressModel",
          "model_module_version": "1.5.0",
          "state": {
            "_dom_classes": [],
            "_model_module": "@jupyter-widgets/controls",
            "_model_module_version": "1.5.0",
            "_model_name": "FloatProgressModel",
            "_view_count": null,
            "_view_module": "@jupyter-widgets/controls",
            "_view_module_version": "1.5.0",
            "_view_name": "ProgressView",
            "bar_style": "success",
            "description": "",
            "description_tooltip": null,
            "layout": "IPY_MODEL_4cc60230e94a4099b66390987024d7d2",
            "max": 548105171,
            "min": 0,
            "orientation": "horizontal",
            "style": "IPY_MODEL_62a22879c791470fbee877f671df8c52",
            "value": 548105171
          }
        },
        "d4561d4879944689975d58ffca1f0dd4": {
          "model_module": "@jupyter-widgets/controls",
          "model_name": "HTMLModel",
          "model_module_version": "1.5.0",
          "state": {
            "_dom_classes": [],
            "_model_module": "@jupyter-widgets/controls",
            "_model_module_version": "1.5.0",
            "_model_name": "HTMLModel",
            "_view_count": null,
            "_view_module": "@jupyter-widgets/controls",
            "_view_module_version": "1.5.0",
            "_view_name": "HTMLView",
            "description": "",
            "description_tooltip": null,
            "layout": "IPY_MODEL_59ae5dbd104940aca9a9a5617d81cbea",
            "placeholder": "​",
            "style": "IPY_MODEL_2ed312339dac4b8e82b08c21482b4888",
            "value": " 548M/548M [00:06&lt;00:00, 53.9MB/s]"
          }
        },
        "da1597a01a124a8d92c593654e45622c": {
          "model_module": "@jupyter-widgets/base",
          "model_name": "LayoutModel",
          "model_module_version": "1.2.0",
          "state": {
            "_model_module": "@jupyter-widgets/base",
            "_model_module_version": "1.2.0",
            "_model_name": "LayoutModel",
            "_view_count": null,
            "_view_module": "@jupyter-widgets/base",
            "_view_module_version": "1.2.0",
            "_view_name": "LayoutView",
            "align_content": null,
            "align_items": null,
            "align_self": null,
            "border": null,
            "bottom": null,
            "display": null,
            "flex": null,
            "flex_flow": null,
            "grid_area": null,
            "grid_auto_columns": null,
            "grid_auto_flow": null,
            "grid_auto_rows": null,
            "grid_column": null,
            "grid_gap": null,
            "grid_row": null,
            "grid_template_areas": null,
            "grid_template_columns": null,
            "grid_template_rows": null,
            "height": null,
            "justify_content": null,
            "justify_items": null,
            "left": null,
            "margin": null,
            "max_height": null,
            "max_width": null,
            "min_height": null,
            "min_width": null,
            "object_fit": null,
            "object_position": null,
            "order": null,
            "overflow": null,
            "overflow_x": null,
            "overflow_y": null,
            "padding": null,
            "right": null,
            "top": null,
            "visibility": null,
            "width": null
          }
        },
        "cb5df640a2344fad83bda5230a04ae2d": {
          "model_module": "@jupyter-widgets/base",
          "model_name": "LayoutModel",
          "model_module_version": "1.2.0",
          "state": {
            "_model_module": "@jupyter-widgets/base",
            "_model_module_version": "1.2.0",
            "_model_name": "LayoutModel",
            "_view_count": null,
            "_view_module": "@jupyter-widgets/base",
            "_view_module_version": "1.2.0",
            "_view_name": "LayoutView",
            "align_content": null,
            "align_items": null,
            "align_self": null,
            "border": null,
            "bottom": null,
            "display": null,
            "flex": null,
            "flex_flow": null,
            "grid_area": null,
            "grid_auto_columns": null,
            "grid_auto_flow": null,
            "grid_auto_rows": null,
            "grid_column": null,
            "grid_gap": null,
            "grid_row": null,
            "grid_template_areas": null,
            "grid_template_columns": null,
            "grid_template_rows": null,
            "height": null,
            "justify_content": null,
            "justify_items": null,
            "left": null,
            "margin": null,
            "max_height": null,
            "max_width": null,
            "min_height": null,
            "min_width": null,
            "object_fit": null,
            "object_position": null,
            "order": null,
            "overflow": null,
            "overflow_x": null,
            "overflow_y": null,
            "padding": null,
            "right": null,
            "top": null,
            "visibility": null,
            "width": null
          }
        },
        "e9b1aff44b8b4a5192d6d243d8bb7b09": {
          "model_module": "@jupyter-widgets/controls",
          "model_name": "DescriptionStyleModel",
          "model_module_version": "1.5.0",
          "state": {
            "_model_module": "@jupyter-widgets/controls",
            "_model_module_version": "1.5.0",
            "_model_name": "DescriptionStyleModel",
            "_view_count": null,
            "_view_module": "@jupyter-widgets/base",
            "_view_module_version": "1.2.0",
            "_view_name": "StyleView",
            "description_width": ""
          }
        },
        "4cc60230e94a4099b66390987024d7d2": {
          "model_module": "@jupyter-widgets/base",
          "model_name": "LayoutModel",
          "model_module_version": "1.2.0",
          "state": {
            "_model_module": "@jupyter-widgets/base",
            "_model_module_version": "1.2.0",
            "_model_name": "LayoutModel",
            "_view_count": null,
            "_view_module": "@jupyter-widgets/base",
            "_view_module_version": "1.2.0",
            "_view_name": "LayoutView",
            "align_content": null,
            "align_items": null,
            "align_self": null,
            "border": null,
            "bottom": null,
            "display": null,
            "flex": null,
            "flex_flow": null,
            "grid_area": null,
            "grid_auto_columns": null,
            "grid_auto_flow": null,
            "grid_auto_rows": null,
            "grid_column": null,
            "grid_gap": null,
            "grid_row": null,
            "grid_template_areas": null,
            "grid_template_columns": null,
            "grid_template_rows": null,
            "height": null,
            "justify_content": null,
            "justify_items": null,
            "left": null,
            "margin": null,
            "max_height": null,
            "max_width": null,
            "min_height": null,
            "min_width": null,
            "object_fit": null,
            "object_position": null,
            "order": null,
            "overflow": null,
            "overflow_x": null,
            "overflow_y": null,
            "padding": null,
            "right": null,
            "top": null,
            "visibility": null,
            "width": null
          }
        },
        "62a22879c791470fbee877f671df8c52": {
          "model_module": "@jupyter-widgets/controls",
          "model_name": "ProgressStyleModel",
          "model_module_version": "1.5.0",
          "state": {
            "_model_module": "@jupyter-widgets/controls",
            "_model_module_version": "1.5.0",
            "_model_name": "ProgressStyleModel",
            "_view_count": null,
            "_view_module": "@jupyter-widgets/base",
            "_view_module_version": "1.2.0",
            "_view_name": "StyleView",
            "bar_color": null,
            "description_width": ""
          }
        },
        "59ae5dbd104940aca9a9a5617d81cbea": {
          "model_module": "@jupyter-widgets/base",
          "model_name": "LayoutModel",
          "model_module_version": "1.2.0",
          "state": {
            "_model_module": "@jupyter-widgets/base",
            "_model_module_version": "1.2.0",
            "_model_name": "LayoutModel",
            "_view_count": null,
            "_view_module": "@jupyter-widgets/base",
            "_view_module_version": "1.2.0",
            "_view_name": "LayoutView",
            "align_content": null,
            "align_items": null,
            "align_self": null,
            "border": null,
            "bottom": null,
            "display": null,
            "flex": null,
            "flex_flow": null,
            "grid_area": null,
            "grid_auto_columns": null,
            "grid_auto_flow": null,
            "grid_auto_rows": null,
            "grid_column": null,
            "grid_gap": null,
            "grid_row": null,
            "grid_template_areas": null,
            "grid_template_columns": null,
            "grid_template_rows": null,
            "height": null,
            "justify_content": null,
            "justify_items": null,
            "left": null,
            "margin": null,
            "max_height": null,
            "max_width": null,
            "min_height": null,
            "min_width": null,
            "object_fit": null,
            "object_position": null,
            "order": null,
            "overflow": null,
            "overflow_x": null,
            "overflow_y": null,
            "padding": null,
            "right": null,
            "top": null,
            "visibility": null,
            "width": null
          }
        },
        "2ed312339dac4b8e82b08c21482b4888": {
          "model_module": "@jupyter-widgets/controls",
          "model_name": "DescriptionStyleModel",
          "model_module_version": "1.5.0",
          "state": {
            "_model_module": "@jupyter-widgets/controls",
            "_model_module_version": "1.5.0",
            "_model_name": "DescriptionStyleModel",
            "_view_count": null,
            "_view_module": "@jupyter-widgets/base",
            "_view_module_version": "1.2.0",
            "_view_name": "StyleView",
            "description_width": ""
          }
        },
        "b400520005ef492b85749641e8faf25b": {
          "model_module": "@jupyter-widgets/controls",
          "model_name": "HBoxModel",
          "model_module_version": "1.5.0",
          "state": {
            "_dom_classes": [],
            "_model_module": "@jupyter-widgets/controls",
            "_model_module_version": "1.5.0",
            "_model_name": "HBoxModel",
            "_view_count": null,
            "_view_module": "@jupyter-widgets/controls",
            "_view_module_version": "1.5.0",
            "_view_name": "HBoxView",
            "box_style": "",
            "children": [
              "IPY_MODEL_a6515dd7db0046b3817b6204dee2719f",
              "IPY_MODEL_c0dee0a1a6d143cc90cba1e9f30fba93",
              "IPY_MODEL_25e1848aa5474d76891da3883e1f94d3"
            ],
            "layout": "IPY_MODEL_c9278452526c48209acb3b64bf9450a6"
          }
        },
        "a6515dd7db0046b3817b6204dee2719f": {
          "model_module": "@jupyter-widgets/controls",
          "model_name": "HTMLModel",
          "model_module_version": "1.5.0",
          "state": {
            "_dom_classes": [],
            "_model_module": "@jupyter-widgets/controls",
            "_model_module_version": "1.5.0",
            "_model_name": "HTMLModel",
            "_view_count": null,
            "_view_module": "@jupyter-widgets/controls",
            "_view_module_version": "1.5.0",
            "_view_name": "HTMLView",
            "description": "",
            "description_tooltip": null,
            "layout": "IPY_MODEL_b5967ee2913b46d8b91cf36659adad2c",
            "placeholder": "​",
            "style": "IPY_MODEL_08877761b2cb49d6b86dd5cf2b9a8f7c",
            "value": "generation_config.json: 100%"
          }
        },
        "c0dee0a1a6d143cc90cba1e9f30fba93": {
          "model_module": "@jupyter-widgets/controls",
          "model_name": "FloatProgressModel",
          "model_module_version": "1.5.0",
          "state": {
            "_dom_classes": [],
            "_model_module": "@jupyter-widgets/controls",
            "_model_module_version": "1.5.0",
            "_model_name": "FloatProgressModel",
            "_view_count": null,
            "_view_module": "@jupyter-widgets/controls",
            "_view_module_version": "1.5.0",
            "_view_name": "ProgressView",
            "bar_style": "success",
            "description": "",
            "description_tooltip": null,
            "layout": "IPY_MODEL_791a657407674472a2a93165b93aeefa",
            "max": 124,
            "min": 0,
            "orientation": "horizontal",
            "style": "IPY_MODEL_238c7d8e11f042b78904f1d9b81bd542",
            "value": 124
          }
        },
        "25e1848aa5474d76891da3883e1f94d3": {
          "model_module": "@jupyter-widgets/controls",
          "model_name": "HTMLModel",
          "model_module_version": "1.5.0",
          "state": {
            "_dom_classes": [],
            "_model_module": "@jupyter-widgets/controls",
            "_model_module_version": "1.5.0",
            "_model_name": "HTMLModel",
            "_view_count": null,
            "_view_module": "@jupyter-widgets/controls",
            "_view_module_version": "1.5.0",
            "_view_name": "HTMLView",
            "description": "",
            "description_tooltip": null,
            "layout": "IPY_MODEL_25264c73a35047c6bed29e8257e66e7d",
            "placeholder": "​",
            "style": "IPY_MODEL_dbca58fcda064c8382ca9c4c48c5d585",
            "value": " 124/124 [00:00&lt;00:00, 4.70kB/s]"
          }
        },
        "c9278452526c48209acb3b64bf9450a6": {
          "model_module": "@jupyter-widgets/base",
          "model_name": "LayoutModel",
          "model_module_version": "1.2.0",
          "state": {
            "_model_module": "@jupyter-widgets/base",
            "_model_module_version": "1.2.0",
            "_model_name": "LayoutModel",
            "_view_count": null,
            "_view_module": "@jupyter-widgets/base",
            "_view_module_version": "1.2.0",
            "_view_name": "LayoutView",
            "align_content": null,
            "align_items": null,
            "align_self": null,
            "border": null,
            "bottom": null,
            "display": null,
            "flex": null,
            "flex_flow": null,
            "grid_area": null,
            "grid_auto_columns": null,
            "grid_auto_flow": null,
            "grid_auto_rows": null,
            "grid_column": null,
            "grid_gap": null,
            "grid_row": null,
            "grid_template_areas": null,
            "grid_template_columns": null,
            "grid_template_rows": null,
            "height": null,
            "justify_content": null,
            "justify_items": null,
            "left": null,
            "margin": null,
            "max_height": null,
            "max_width": null,
            "min_height": null,
            "min_width": null,
            "object_fit": null,
            "object_position": null,
            "order": null,
            "overflow": null,
            "overflow_x": null,
            "overflow_y": null,
            "padding": null,
            "right": null,
            "top": null,
            "visibility": null,
            "width": null
          }
        },
        "b5967ee2913b46d8b91cf36659adad2c": {
          "model_module": "@jupyter-widgets/base",
          "model_name": "LayoutModel",
          "model_module_version": "1.2.0",
          "state": {
            "_model_module": "@jupyter-widgets/base",
            "_model_module_version": "1.2.0",
            "_model_name": "LayoutModel",
            "_view_count": null,
            "_view_module": "@jupyter-widgets/base",
            "_view_module_version": "1.2.0",
            "_view_name": "LayoutView",
            "align_content": null,
            "align_items": null,
            "align_self": null,
            "border": null,
            "bottom": null,
            "display": null,
            "flex": null,
            "flex_flow": null,
            "grid_area": null,
            "grid_auto_columns": null,
            "grid_auto_flow": null,
            "grid_auto_rows": null,
            "grid_column": null,
            "grid_gap": null,
            "grid_row": null,
            "grid_template_areas": null,
            "grid_template_columns": null,
            "grid_template_rows": null,
            "height": null,
            "justify_content": null,
            "justify_items": null,
            "left": null,
            "margin": null,
            "max_height": null,
            "max_width": null,
            "min_height": null,
            "min_width": null,
            "object_fit": null,
            "object_position": null,
            "order": null,
            "overflow": null,
            "overflow_x": null,
            "overflow_y": null,
            "padding": null,
            "right": null,
            "top": null,
            "visibility": null,
            "width": null
          }
        },
        "08877761b2cb49d6b86dd5cf2b9a8f7c": {
          "model_module": "@jupyter-widgets/controls",
          "model_name": "DescriptionStyleModel",
          "model_module_version": "1.5.0",
          "state": {
            "_model_module": "@jupyter-widgets/controls",
            "_model_module_version": "1.5.0",
            "_model_name": "DescriptionStyleModel",
            "_view_count": null,
            "_view_module": "@jupyter-widgets/base",
            "_view_module_version": "1.2.0",
            "_view_name": "StyleView",
            "description_width": ""
          }
        },
        "791a657407674472a2a93165b93aeefa": {
          "model_module": "@jupyter-widgets/base",
          "model_name": "LayoutModel",
          "model_module_version": "1.2.0",
          "state": {
            "_model_module": "@jupyter-widgets/base",
            "_model_module_version": "1.2.0",
            "_model_name": "LayoutModel",
            "_view_count": null,
            "_view_module": "@jupyter-widgets/base",
            "_view_module_version": "1.2.0",
            "_view_name": "LayoutView",
            "align_content": null,
            "align_items": null,
            "align_self": null,
            "border": null,
            "bottom": null,
            "display": null,
            "flex": null,
            "flex_flow": null,
            "grid_area": null,
            "grid_auto_columns": null,
            "grid_auto_flow": null,
            "grid_auto_rows": null,
            "grid_column": null,
            "grid_gap": null,
            "grid_row": null,
            "grid_template_areas": null,
            "grid_template_columns": null,
            "grid_template_rows": null,
            "height": null,
            "justify_content": null,
            "justify_items": null,
            "left": null,
            "margin": null,
            "max_height": null,
            "max_width": null,
            "min_height": null,
            "min_width": null,
            "object_fit": null,
            "object_position": null,
            "order": null,
            "overflow": null,
            "overflow_x": null,
            "overflow_y": null,
            "padding": null,
            "right": null,
            "top": null,
            "visibility": null,
            "width": null
          }
        },
        "238c7d8e11f042b78904f1d9b81bd542": {
          "model_module": "@jupyter-widgets/controls",
          "model_name": "ProgressStyleModel",
          "model_module_version": "1.5.0",
          "state": {
            "_model_module": "@jupyter-widgets/controls",
            "_model_module_version": "1.5.0",
            "_model_name": "ProgressStyleModel",
            "_view_count": null,
            "_view_module": "@jupyter-widgets/base",
            "_view_module_version": "1.2.0",
            "_view_name": "StyleView",
            "bar_color": null,
            "description_width": ""
          }
        },
        "25264c73a35047c6bed29e8257e66e7d": {
          "model_module": "@jupyter-widgets/base",
          "model_name": "LayoutModel",
          "model_module_version": "1.2.0",
          "state": {
            "_model_module": "@jupyter-widgets/base",
            "_model_module_version": "1.2.0",
            "_model_name": "LayoutModel",
            "_view_count": null,
            "_view_module": "@jupyter-widgets/base",
            "_view_module_version": "1.2.0",
            "_view_name": "LayoutView",
            "align_content": null,
            "align_items": null,
            "align_self": null,
            "border": null,
            "bottom": null,
            "display": null,
            "flex": null,
            "flex_flow": null,
            "grid_area": null,
            "grid_auto_columns": null,
            "grid_auto_flow": null,
            "grid_auto_rows": null,
            "grid_column": null,
            "grid_gap": null,
            "grid_row": null,
            "grid_template_areas": null,
            "grid_template_columns": null,
            "grid_template_rows": null,
            "height": null,
            "justify_content": null,
            "justify_items": null,
            "left": null,
            "margin": null,
            "max_height": null,
            "max_width": null,
            "min_height": null,
            "min_width": null,
            "object_fit": null,
            "object_position": null,
            "order": null,
            "overflow": null,
            "overflow_x": null,
            "overflow_y": null,
            "padding": null,
            "right": null,
            "top": null,
            "visibility": null,
            "width": null
          }
        },
        "dbca58fcda064c8382ca9c4c48c5d585": {
          "model_module": "@jupyter-widgets/controls",
          "model_name": "DescriptionStyleModel",
          "model_module_version": "1.5.0",
          "state": {
            "_model_module": "@jupyter-widgets/controls",
            "_model_module_version": "1.5.0",
            "_model_name": "DescriptionStyleModel",
            "_view_count": null,
            "_view_module": "@jupyter-widgets/base",
            "_view_module_version": "1.2.0",
            "_view_name": "StyleView",
            "description_width": ""
          }
        },
        "ca9856bac38c4d4da9992592f6280558": {
          "model_module": "@jupyter-widgets/controls",
          "model_name": "HBoxModel",
          "model_module_version": "1.5.0",
          "state": {
            "_dom_classes": [],
            "_model_module": "@jupyter-widgets/controls",
            "_model_module_version": "1.5.0",
            "_model_name": "HBoxModel",
            "_view_count": null,
            "_view_module": "@jupyter-widgets/controls",
            "_view_module_version": "1.5.0",
            "_view_name": "HBoxView",
            "box_style": "",
            "children": [
              "IPY_MODEL_fce5e044afd94b78945729d3eb833fee",
              "IPY_MODEL_9c3125a3d2d34796b628e760dc1bc2ce",
              "IPY_MODEL_5cd8317bd20d430b8225cecda7a98b08"
            ],
            "layout": "IPY_MODEL_ef40e5e3fc1149c695f7a80667a9a2b2"
          }
        },
        "fce5e044afd94b78945729d3eb833fee": {
          "model_module": "@jupyter-widgets/controls",
          "model_name": "HTMLModel",
          "model_module_version": "1.5.0",
          "state": {
            "_dom_classes": [],
            "_model_module": "@jupyter-widgets/controls",
            "_model_module_version": "1.5.0",
            "_model_name": "HTMLModel",
            "_view_count": null,
            "_view_module": "@jupyter-widgets/controls",
            "_view_module_version": "1.5.0",
            "_view_name": "HTMLView",
            "description": "",
            "description_tooltip": null,
            "layout": "IPY_MODEL_6418820e36334d81be33dbbe4d17eaf4",
            "placeholder": "​",
            "style": "IPY_MODEL_8ecd1e8baffd4fe2bcbbd447ee36f86a",
            "value": "tokenizer_config.json: 100%"
          }
        },
        "9c3125a3d2d34796b628e760dc1bc2ce": {
          "model_module": "@jupyter-widgets/controls",
          "model_name": "FloatProgressModel",
          "model_module_version": "1.5.0",
          "state": {
            "_dom_classes": [],
            "_model_module": "@jupyter-widgets/controls",
            "_model_module_version": "1.5.0",
            "_model_name": "FloatProgressModel",
            "_view_count": null,
            "_view_module": "@jupyter-widgets/controls",
            "_view_module_version": "1.5.0",
            "_view_name": "ProgressView",
            "bar_style": "success",
            "description": "",
            "description_tooltip": null,
            "layout": "IPY_MODEL_d4b12a12e1cb4799a407d91eadf68a44",
            "max": 26,
            "min": 0,
            "orientation": "horizontal",
            "style": "IPY_MODEL_87d32ff9ca774aaea1d1db811d825044",
            "value": 26
          }
        },
        "5cd8317bd20d430b8225cecda7a98b08": {
          "model_module": "@jupyter-widgets/controls",
          "model_name": "HTMLModel",
          "model_module_version": "1.5.0",
          "state": {
            "_dom_classes": [],
            "_model_module": "@jupyter-widgets/controls",
            "_model_module_version": "1.5.0",
            "_model_name": "HTMLModel",
            "_view_count": null,
            "_view_module": "@jupyter-widgets/controls",
            "_view_module_version": "1.5.0",
            "_view_name": "HTMLView",
            "description": "",
            "description_tooltip": null,
            "layout": "IPY_MODEL_779768153606482ca63a8c2a04946f32",
            "placeholder": "​",
            "style": "IPY_MODEL_6e566ee1d473463f8af04f04938fb0ad",
            "value": " 26.0/26.0 [00:00&lt;00:00, 655B/s]"
          }
        },
        "ef40e5e3fc1149c695f7a80667a9a2b2": {
          "model_module": "@jupyter-widgets/base",
          "model_name": "LayoutModel",
          "model_module_version": "1.2.0",
          "state": {
            "_model_module": "@jupyter-widgets/base",
            "_model_module_version": "1.2.0",
            "_model_name": "LayoutModel",
            "_view_count": null,
            "_view_module": "@jupyter-widgets/base",
            "_view_module_version": "1.2.0",
            "_view_name": "LayoutView",
            "align_content": null,
            "align_items": null,
            "align_self": null,
            "border": null,
            "bottom": null,
            "display": null,
            "flex": null,
            "flex_flow": null,
            "grid_area": null,
            "grid_auto_columns": null,
            "grid_auto_flow": null,
            "grid_auto_rows": null,
            "grid_column": null,
            "grid_gap": null,
            "grid_row": null,
            "grid_template_areas": null,
            "grid_template_columns": null,
            "grid_template_rows": null,
            "height": null,
            "justify_content": null,
            "justify_items": null,
            "left": null,
            "margin": null,
            "max_height": null,
            "max_width": null,
            "min_height": null,
            "min_width": null,
            "object_fit": null,
            "object_position": null,
            "order": null,
            "overflow": null,
            "overflow_x": null,
            "overflow_y": null,
            "padding": null,
            "right": null,
            "top": null,
            "visibility": null,
            "width": null
          }
        },
        "6418820e36334d81be33dbbe4d17eaf4": {
          "model_module": "@jupyter-widgets/base",
          "model_name": "LayoutModel",
          "model_module_version": "1.2.0",
          "state": {
            "_model_module": "@jupyter-widgets/base",
            "_model_module_version": "1.2.0",
            "_model_name": "LayoutModel",
            "_view_count": null,
            "_view_module": "@jupyter-widgets/base",
            "_view_module_version": "1.2.0",
            "_view_name": "LayoutView",
            "align_content": null,
            "align_items": null,
            "align_self": null,
            "border": null,
            "bottom": null,
            "display": null,
            "flex": null,
            "flex_flow": null,
            "grid_area": null,
            "grid_auto_columns": null,
            "grid_auto_flow": null,
            "grid_auto_rows": null,
            "grid_column": null,
            "grid_gap": null,
            "grid_row": null,
            "grid_template_areas": null,
            "grid_template_columns": null,
            "grid_template_rows": null,
            "height": null,
            "justify_content": null,
            "justify_items": null,
            "left": null,
            "margin": null,
            "max_height": null,
            "max_width": null,
            "min_height": null,
            "min_width": null,
            "object_fit": null,
            "object_position": null,
            "order": null,
            "overflow": null,
            "overflow_x": null,
            "overflow_y": null,
            "padding": null,
            "right": null,
            "top": null,
            "visibility": null,
            "width": null
          }
        },
        "8ecd1e8baffd4fe2bcbbd447ee36f86a": {
          "model_module": "@jupyter-widgets/controls",
          "model_name": "DescriptionStyleModel",
          "model_module_version": "1.5.0",
          "state": {
            "_model_module": "@jupyter-widgets/controls",
            "_model_module_version": "1.5.0",
            "_model_name": "DescriptionStyleModel",
            "_view_count": null,
            "_view_module": "@jupyter-widgets/base",
            "_view_module_version": "1.2.0",
            "_view_name": "StyleView",
            "description_width": ""
          }
        },
        "d4b12a12e1cb4799a407d91eadf68a44": {
          "model_module": "@jupyter-widgets/base",
          "model_name": "LayoutModel",
          "model_module_version": "1.2.0",
          "state": {
            "_model_module": "@jupyter-widgets/base",
            "_model_module_version": "1.2.0",
            "_model_name": "LayoutModel",
            "_view_count": null,
            "_view_module": "@jupyter-widgets/base",
            "_view_module_version": "1.2.0",
            "_view_name": "LayoutView",
            "align_content": null,
            "align_items": null,
            "align_self": null,
            "border": null,
            "bottom": null,
            "display": null,
            "flex": null,
            "flex_flow": null,
            "grid_area": null,
            "grid_auto_columns": null,
            "grid_auto_flow": null,
            "grid_auto_rows": null,
            "grid_column": null,
            "grid_gap": null,
            "grid_row": null,
            "grid_template_areas": null,
            "grid_template_columns": null,
            "grid_template_rows": null,
            "height": null,
            "justify_content": null,
            "justify_items": null,
            "left": null,
            "margin": null,
            "max_height": null,
            "max_width": null,
            "min_height": null,
            "min_width": null,
            "object_fit": null,
            "object_position": null,
            "order": null,
            "overflow": null,
            "overflow_x": null,
            "overflow_y": null,
            "padding": null,
            "right": null,
            "top": null,
            "visibility": null,
            "width": null
          }
        },
        "87d32ff9ca774aaea1d1db811d825044": {
          "model_module": "@jupyter-widgets/controls",
          "model_name": "ProgressStyleModel",
          "model_module_version": "1.5.0",
          "state": {
            "_model_module": "@jupyter-widgets/controls",
            "_model_module_version": "1.5.0",
            "_model_name": "ProgressStyleModel",
            "_view_count": null,
            "_view_module": "@jupyter-widgets/base",
            "_view_module_version": "1.2.0",
            "_view_name": "StyleView",
            "bar_color": null,
            "description_width": ""
          }
        },
        "779768153606482ca63a8c2a04946f32": {
          "model_module": "@jupyter-widgets/base",
          "model_name": "LayoutModel",
          "model_module_version": "1.2.0",
          "state": {
            "_model_module": "@jupyter-widgets/base",
            "_model_module_version": "1.2.0",
            "_model_name": "LayoutModel",
            "_view_count": null,
            "_view_module": "@jupyter-widgets/base",
            "_view_module_version": "1.2.0",
            "_view_name": "LayoutView",
            "align_content": null,
            "align_items": null,
            "align_self": null,
            "border": null,
            "bottom": null,
            "display": null,
            "flex": null,
            "flex_flow": null,
            "grid_area": null,
            "grid_auto_columns": null,
            "grid_auto_flow": null,
            "grid_auto_rows": null,
            "grid_column": null,
            "grid_gap": null,
            "grid_row": null,
            "grid_template_areas": null,
            "grid_template_columns": null,
            "grid_template_rows": null,
            "height": null,
            "justify_content": null,
            "justify_items": null,
            "left": null,
            "margin": null,
            "max_height": null,
            "max_width": null,
            "min_height": null,
            "min_width": null,
            "object_fit": null,
            "object_position": null,
            "order": null,
            "overflow": null,
            "overflow_x": null,
            "overflow_y": null,
            "padding": null,
            "right": null,
            "top": null,
            "visibility": null,
            "width": null
          }
        },
        "6e566ee1d473463f8af04f04938fb0ad": {
          "model_module": "@jupyter-widgets/controls",
          "model_name": "DescriptionStyleModel",
          "model_module_version": "1.5.0",
          "state": {
            "_model_module": "@jupyter-widgets/controls",
            "_model_module_version": "1.5.0",
            "_model_name": "DescriptionStyleModel",
            "_view_count": null,
            "_view_module": "@jupyter-widgets/base",
            "_view_module_version": "1.2.0",
            "_view_name": "StyleView",
            "description_width": ""
          }
        },
        "ece8ef052bd94ddcb86e0aa98f40ddb3": {
          "model_module": "@jupyter-widgets/controls",
          "model_name": "HBoxModel",
          "model_module_version": "1.5.0",
          "state": {
            "_dom_classes": [],
            "_model_module": "@jupyter-widgets/controls",
            "_model_module_version": "1.5.0",
            "_model_name": "HBoxModel",
            "_view_count": null,
            "_view_module": "@jupyter-widgets/controls",
            "_view_module_version": "1.5.0",
            "_view_name": "HBoxView",
            "box_style": "",
            "children": [
              "IPY_MODEL_94f504674d9a41ceab530a0fc952887a",
              "IPY_MODEL_780a6a9170754fd5b7b133e52a1aa9aa",
              "IPY_MODEL_307a0716f75840d9b34d67e4779f2283"
            ],
            "layout": "IPY_MODEL_0c83abc5d54b4a6b97d25dcd16198a4b"
          }
        },
        "94f504674d9a41ceab530a0fc952887a": {
          "model_module": "@jupyter-widgets/controls",
          "model_name": "HTMLModel",
          "model_module_version": "1.5.0",
          "state": {
            "_dom_classes": [],
            "_model_module": "@jupyter-widgets/controls",
            "_model_module_version": "1.5.0",
            "_model_name": "HTMLModel",
            "_view_count": null,
            "_view_module": "@jupyter-widgets/controls",
            "_view_module_version": "1.5.0",
            "_view_name": "HTMLView",
            "description": "",
            "description_tooltip": null,
            "layout": "IPY_MODEL_3bcbf7cddf9743279be2a7be3c75f58c",
            "placeholder": "​",
            "style": "IPY_MODEL_c9c4e102ae084a0bbdb4189158369f15",
            "value": "vocab.json: 100%"
          }
        },
        "780a6a9170754fd5b7b133e52a1aa9aa": {
          "model_module": "@jupyter-widgets/controls",
          "model_name": "FloatProgressModel",
          "model_module_version": "1.5.0",
          "state": {
            "_dom_classes": [],
            "_model_module": "@jupyter-widgets/controls",
            "_model_module_version": "1.5.0",
            "_model_name": "FloatProgressModel",
            "_view_count": null,
            "_view_module": "@jupyter-widgets/controls",
            "_view_module_version": "1.5.0",
            "_view_name": "ProgressView",
            "bar_style": "success",
            "description": "",
            "description_tooltip": null,
            "layout": "IPY_MODEL_bd8ac05458584aa183b9f3747e9eac43",
            "max": 1042301,
            "min": 0,
            "orientation": "horizontal",
            "style": "IPY_MODEL_c4b095e333694af582e1a98eb15192e6",
            "value": 1042301
          }
        },
        "307a0716f75840d9b34d67e4779f2283": {
          "model_module": "@jupyter-widgets/controls",
          "model_name": "HTMLModel",
          "model_module_version": "1.5.0",
          "state": {
            "_dom_classes": [],
            "_model_module": "@jupyter-widgets/controls",
            "_model_module_version": "1.5.0",
            "_model_name": "HTMLModel",
            "_view_count": null,
            "_view_module": "@jupyter-widgets/controls",
            "_view_module_version": "1.5.0",
            "_view_name": "HTMLView",
            "description": "",
            "description_tooltip": null,
            "layout": "IPY_MODEL_38b3645e70784c1e80135e6d10b16845",
            "placeholder": "​",
            "style": "IPY_MODEL_285cb2da30ba49b98b7577fd8ac0efb8",
            "value": " 1.04M/1.04M [00:00&lt;00:00, 7.39MB/s]"
          }
        },
        "0c83abc5d54b4a6b97d25dcd16198a4b": {
          "model_module": "@jupyter-widgets/base",
          "model_name": "LayoutModel",
          "model_module_version": "1.2.0",
          "state": {
            "_model_module": "@jupyter-widgets/base",
            "_model_module_version": "1.2.0",
            "_model_name": "LayoutModel",
            "_view_count": null,
            "_view_module": "@jupyter-widgets/base",
            "_view_module_version": "1.2.0",
            "_view_name": "LayoutView",
            "align_content": null,
            "align_items": null,
            "align_self": null,
            "border": null,
            "bottom": null,
            "display": null,
            "flex": null,
            "flex_flow": null,
            "grid_area": null,
            "grid_auto_columns": null,
            "grid_auto_flow": null,
            "grid_auto_rows": null,
            "grid_column": null,
            "grid_gap": null,
            "grid_row": null,
            "grid_template_areas": null,
            "grid_template_columns": null,
            "grid_template_rows": null,
            "height": null,
            "justify_content": null,
            "justify_items": null,
            "left": null,
            "margin": null,
            "max_height": null,
            "max_width": null,
            "min_height": null,
            "min_width": null,
            "object_fit": null,
            "object_position": null,
            "order": null,
            "overflow": null,
            "overflow_x": null,
            "overflow_y": null,
            "padding": null,
            "right": null,
            "top": null,
            "visibility": null,
            "width": null
          }
        },
        "3bcbf7cddf9743279be2a7be3c75f58c": {
          "model_module": "@jupyter-widgets/base",
          "model_name": "LayoutModel",
          "model_module_version": "1.2.0",
          "state": {
            "_model_module": "@jupyter-widgets/base",
            "_model_module_version": "1.2.0",
            "_model_name": "LayoutModel",
            "_view_count": null,
            "_view_module": "@jupyter-widgets/base",
            "_view_module_version": "1.2.0",
            "_view_name": "LayoutView",
            "align_content": null,
            "align_items": null,
            "align_self": null,
            "border": null,
            "bottom": null,
            "display": null,
            "flex": null,
            "flex_flow": null,
            "grid_area": null,
            "grid_auto_columns": null,
            "grid_auto_flow": null,
            "grid_auto_rows": null,
            "grid_column": null,
            "grid_gap": null,
            "grid_row": null,
            "grid_template_areas": null,
            "grid_template_columns": null,
            "grid_template_rows": null,
            "height": null,
            "justify_content": null,
            "justify_items": null,
            "left": null,
            "margin": null,
            "max_height": null,
            "max_width": null,
            "min_height": null,
            "min_width": null,
            "object_fit": null,
            "object_position": null,
            "order": null,
            "overflow": null,
            "overflow_x": null,
            "overflow_y": null,
            "padding": null,
            "right": null,
            "top": null,
            "visibility": null,
            "width": null
          }
        },
        "c9c4e102ae084a0bbdb4189158369f15": {
          "model_module": "@jupyter-widgets/controls",
          "model_name": "DescriptionStyleModel",
          "model_module_version": "1.5.0",
          "state": {
            "_model_module": "@jupyter-widgets/controls",
            "_model_module_version": "1.5.0",
            "_model_name": "DescriptionStyleModel",
            "_view_count": null,
            "_view_module": "@jupyter-widgets/base",
            "_view_module_version": "1.2.0",
            "_view_name": "StyleView",
            "description_width": ""
          }
        },
        "bd8ac05458584aa183b9f3747e9eac43": {
          "model_module": "@jupyter-widgets/base",
          "model_name": "LayoutModel",
          "model_module_version": "1.2.0",
          "state": {
            "_model_module": "@jupyter-widgets/base",
            "_model_module_version": "1.2.0",
            "_model_name": "LayoutModel",
            "_view_count": null,
            "_view_module": "@jupyter-widgets/base",
            "_view_module_version": "1.2.0",
            "_view_name": "LayoutView",
            "align_content": null,
            "align_items": null,
            "align_self": null,
            "border": null,
            "bottom": null,
            "display": null,
            "flex": null,
            "flex_flow": null,
            "grid_area": null,
            "grid_auto_columns": null,
            "grid_auto_flow": null,
            "grid_auto_rows": null,
            "grid_column": null,
            "grid_gap": null,
            "grid_row": null,
            "grid_template_areas": null,
            "grid_template_columns": null,
            "grid_template_rows": null,
            "height": null,
            "justify_content": null,
            "justify_items": null,
            "left": null,
            "margin": null,
            "max_height": null,
            "max_width": null,
            "min_height": null,
            "min_width": null,
            "object_fit": null,
            "object_position": null,
            "order": null,
            "overflow": null,
            "overflow_x": null,
            "overflow_y": null,
            "padding": null,
            "right": null,
            "top": null,
            "visibility": null,
            "width": null
          }
        },
        "c4b095e333694af582e1a98eb15192e6": {
          "model_module": "@jupyter-widgets/controls",
          "model_name": "ProgressStyleModel",
          "model_module_version": "1.5.0",
          "state": {
            "_model_module": "@jupyter-widgets/controls",
            "_model_module_version": "1.5.0",
            "_model_name": "ProgressStyleModel",
            "_view_count": null,
            "_view_module": "@jupyter-widgets/base",
            "_view_module_version": "1.2.0",
            "_view_name": "StyleView",
            "bar_color": null,
            "description_width": ""
          }
        },
        "38b3645e70784c1e80135e6d10b16845": {
          "model_module": "@jupyter-widgets/base",
          "model_name": "LayoutModel",
          "model_module_version": "1.2.0",
          "state": {
            "_model_module": "@jupyter-widgets/base",
            "_model_module_version": "1.2.0",
            "_model_name": "LayoutModel",
            "_view_count": null,
            "_view_module": "@jupyter-widgets/base",
            "_view_module_version": "1.2.0",
            "_view_name": "LayoutView",
            "align_content": null,
            "align_items": null,
            "align_self": null,
            "border": null,
            "bottom": null,
            "display": null,
            "flex": null,
            "flex_flow": null,
            "grid_area": null,
            "grid_auto_columns": null,
            "grid_auto_flow": null,
            "grid_auto_rows": null,
            "grid_column": null,
            "grid_gap": null,
            "grid_row": null,
            "grid_template_areas": null,
            "grid_template_columns": null,
            "grid_template_rows": null,
            "height": null,
            "justify_content": null,
            "justify_items": null,
            "left": null,
            "margin": null,
            "max_height": null,
            "max_width": null,
            "min_height": null,
            "min_width": null,
            "object_fit": null,
            "object_position": null,
            "order": null,
            "overflow": null,
            "overflow_x": null,
            "overflow_y": null,
            "padding": null,
            "right": null,
            "top": null,
            "visibility": null,
            "width": null
          }
        },
        "285cb2da30ba49b98b7577fd8ac0efb8": {
          "model_module": "@jupyter-widgets/controls",
          "model_name": "DescriptionStyleModel",
          "model_module_version": "1.5.0",
          "state": {
            "_model_module": "@jupyter-widgets/controls",
            "_model_module_version": "1.5.0",
            "_model_name": "DescriptionStyleModel",
            "_view_count": null,
            "_view_module": "@jupyter-widgets/base",
            "_view_module_version": "1.2.0",
            "_view_name": "StyleView",
            "description_width": ""
          }
        },
        "752f6e11546b4f4aa2419fe75337c573": {
          "model_module": "@jupyter-widgets/controls",
          "model_name": "HBoxModel",
          "model_module_version": "1.5.0",
          "state": {
            "_dom_classes": [],
            "_model_module": "@jupyter-widgets/controls",
            "_model_module_version": "1.5.0",
            "_model_name": "HBoxModel",
            "_view_count": null,
            "_view_module": "@jupyter-widgets/controls",
            "_view_module_version": "1.5.0",
            "_view_name": "HBoxView",
            "box_style": "",
            "children": [
              "IPY_MODEL_cadaa7410b92465e955fb870c806480e",
              "IPY_MODEL_06054732fc45420e88f43c66ecb080be",
              "IPY_MODEL_1ed0e7c9444d4d98993798890e7835f4"
            ],
            "layout": "IPY_MODEL_d33780c4b8e543c4b9bd6ee6c315b416"
          }
        },
        "cadaa7410b92465e955fb870c806480e": {
          "model_module": "@jupyter-widgets/controls",
          "model_name": "HTMLModel",
          "model_module_version": "1.5.0",
          "state": {
            "_dom_classes": [],
            "_model_module": "@jupyter-widgets/controls",
            "_model_module_version": "1.5.0",
            "_model_name": "HTMLModel",
            "_view_count": null,
            "_view_module": "@jupyter-widgets/controls",
            "_view_module_version": "1.5.0",
            "_view_name": "HTMLView",
            "description": "",
            "description_tooltip": null,
            "layout": "IPY_MODEL_e340b9e20a1445039705de2f672f2314",
            "placeholder": "​",
            "style": "IPY_MODEL_2519d2b7830145c88a44e21a1d55e925",
            "value": "merges.txt: 100%"
          }
        },
        "06054732fc45420e88f43c66ecb080be": {
          "model_module": "@jupyter-widgets/controls",
          "model_name": "FloatProgressModel",
          "model_module_version": "1.5.0",
          "state": {
            "_dom_classes": [],
            "_model_module": "@jupyter-widgets/controls",
            "_model_module_version": "1.5.0",
            "_model_name": "FloatProgressModel",
            "_view_count": null,
            "_view_module": "@jupyter-widgets/controls",
            "_view_module_version": "1.5.0",
            "_view_name": "ProgressView",
            "bar_style": "success",
            "description": "",
            "description_tooltip": null,
            "layout": "IPY_MODEL_0139c8afade8407786eb3e48acf8e169",
            "max": 456318,
            "min": 0,
            "orientation": "horizontal",
            "style": "IPY_MODEL_056b1022c4da4546b29c49c1af8ab246",
            "value": 456318
          }
        },
        "1ed0e7c9444d4d98993798890e7835f4": {
          "model_module": "@jupyter-widgets/controls",
          "model_name": "HTMLModel",
          "model_module_version": "1.5.0",
          "state": {
            "_dom_classes": [],
            "_model_module": "@jupyter-widgets/controls",
            "_model_module_version": "1.5.0",
            "_model_name": "HTMLModel",
            "_view_count": null,
            "_view_module": "@jupyter-widgets/controls",
            "_view_module_version": "1.5.0",
            "_view_name": "HTMLView",
            "description": "",
            "description_tooltip": null,
            "layout": "IPY_MODEL_c2b1966e15104beeaac2a93dbc40a7c5",
            "placeholder": "​",
            "style": "IPY_MODEL_1336bbc8476a44699d67c97d29bc5a50",
            "value": " 456k/456k [00:00&lt;00:00, 3.48MB/s]"
          }
        },
        "d33780c4b8e543c4b9bd6ee6c315b416": {
          "model_module": "@jupyter-widgets/base",
          "model_name": "LayoutModel",
          "model_module_version": "1.2.0",
          "state": {
            "_model_module": "@jupyter-widgets/base",
            "_model_module_version": "1.2.0",
            "_model_name": "LayoutModel",
            "_view_count": null,
            "_view_module": "@jupyter-widgets/base",
            "_view_module_version": "1.2.0",
            "_view_name": "LayoutView",
            "align_content": null,
            "align_items": null,
            "align_self": null,
            "border": null,
            "bottom": null,
            "display": null,
            "flex": null,
            "flex_flow": null,
            "grid_area": null,
            "grid_auto_columns": null,
            "grid_auto_flow": null,
            "grid_auto_rows": null,
            "grid_column": null,
            "grid_gap": null,
            "grid_row": null,
            "grid_template_areas": null,
            "grid_template_columns": null,
            "grid_template_rows": null,
            "height": null,
            "justify_content": null,
            "justify_items": null,
            "left": null,
            "margin": null,
            "max_height": null,
            "max_width": null,
            "min_height": null,
            "min_width": null,
            "object_fit": null,
            "object_position": null,
            "order": null,
            "overflow": null,
            "overflow_x": null,
            "overflow_y": null,
            "padding": null,
            "right": null,
            "top": null,
            "visibility": null,
            "width": null
          }
        },
        "e340b9e20a1445039705de2f672f2314": {
          "model_module": "@jupyter-widgets/base",
          "model_name": "LayoutModel",
          "model_module_version": "1.2.0",
          "state": {
            "_model_module": "@jupyter-widgets/base",
            "_model_module_version": "1.2.0",
            "_model_name": "LayoutModel",
            "_view_count": null,
            "_view_module": "@jupyter-widgets/base",
            "_view_module_version": "1.2.0",
            "_view_name": "LayoutView",
            "align_content": null,
            "align_items": null,
            "align_self": null,
            "border": null,
            "bottom": null,
            "display": null,
            "flex": null,
            "flex_flow": null,
            "grid_area": null,
            "grid_auto_columns": null,
            "grid_auto_flow": null,
            "grid_auto_rows": null,
            "grid_column": null,
            "grid_gap": null,
            "grid_row": null,
            "grid_template_areas": null,
            "grid_template_columns": null,
            "grid_template_rows": null,
            "height": null,
            "justify_content": null,
            "justify_items": null,
            "left": null,
            "margin": null,
            "max_height": null,
            "max_width": null,
            "min_height": null,
            "min_width": null,
            "object_fit": null,
            "object_position": null,
            "order": null,
            "overflow": null,
            "overflow_x": null,
            "overflow_y": null,
            "padding": null,
            "right": null,
            "top": null,
            "visibility": null,
            "width": null
          }
        },
        "2519d2b7830145c88a44e21a1d55e925": {
          "model_module": "@jupyter-widgets/controls",
          "model_name": "DescriptionStyleModel",
          "model_module_version": "1.5.0",
          "state": {
            "_model_module": "@jupyter-widgets/controls",
            "_model_module_version": "1.5.0",
            "_model_name": "DescriptionStyleModel",
            "_view_count": null,
            "_view_module": "@jupyter-widgets/base",
            "_view_module_version": "1.2.0",
            "_view_name": "StyleView",
            "description_width": ""
          }
        },
        "0139c8afade8407786eb3e48acf8e169": {
          "model_module": "@jupyter-widgets/base",
          "model_name": "LayoutModel",
          "model_module_version": "1.2.0",
          "state": {
            "_model_module": "@jupyter-widgets/base",
            "_model_module_version": "1.2.0",
            "_model_name": "LayoutModel",
            "_view_count": null,
            "_view_module": "@jupyter-widgets/base",
            "_view_module_version": "1.2.0",
            "_view_name": "LayoutView",
            "align_content": null,
            "align_items": null,
            "align_self": null,
            "border": null,
            "bottom": null,
            "display": null,
            "flex": null,
            "flex_flow": null,
            "grid_area": null,
            "grid_auto_columns": null,
            "grid_auto_flow": null,
            "grid_auto_rows": null,
            "grid_column": null,
            "grid_gap": null,
            "grid_row": null,
            "grid_template_areas": null,
            "grid_template_columns": null,
            "grid_template_rows": null,
            "height": null,
            "justify_content": null,
            "justify_items": null,
            "left": null,
            "margin": null,
            "max_height": null,
            "max_width": null,
            "min_height": null,
            "min_width": null,
            "object_fit": null,
            "object_position": null,
            "order": null,
            "overflow": null,
            "overflow_x": null,
            "overflow_y": null,
            "padding": null,
            "right": null,
            "top": null,
            "visibility": null,
            "width": null
          }
        },
        "056b1022c4da4546b29c49c1af8ab246": {
          "model_module": "@jupyter-widgets/controls",
          "model_name": "ProgressStyleModel",
          "model_module_version": "1.5.0",
          "state": {
            "_model_module": "@jupyter-widgets/controls",
            "_model_module_version": "1.5.0",
            "_model_name": "ProgressStyleModel",
            "_view_count": null,
            "_view_module": "@jupyter-widgets/base",
            "_view_module_version": "1.2.0",
            "_view_name": "StyleView",
            "bar_color": null,
            "description_width": ""
          }
        },
        "c2b1966e15104beeaac2a93dbc40a7c5": {
          "model_module": "@jupyter-widgets/base",
          "model_name": "LayoutModel",
          "model_module_version": "1.2.0",
          "state": {
            "_model_module": "@jupyter-widgets/base",
            "_model_module_version": "1.2.0",
            "_model_name": "LayoutModel",
            "_view_count": null,
            "_view_module": "@jupyter-widgets/base",
            "_view_module_version": "1.2.0",
            "_view_name": "LayoutView",
            "align_content": null,
            "align_items": null,
            "align_self": null,
            "border": null,
            "bottom": null,
            "display": null,
            "flex": null,
            "flex_flow": null,
            "grid_area": null,
            "grid_auto_columns": null,
            "grid_auto_flow": null,
            "grid_auto_rows": null,
            "grid_column": null,
            "grid_gap": null,
            "grid_row": null,
            "grid_template_areas": null,
            "grid_template_columns": null,
            "grid_template_rows": null,
            "height": null,
            "justify_content": null,
            "justify_items": null,
            "left": null,
            "margin": null,
            "max_height": null,
            "max_width": null,
            "min_height": null,
            "min_width": null,
            "object_fit": null,
            "object_position": null,
            "order": null,
            "overflow": null,
            "overflow_x": null,
            "overflow_y": null,
            "padding": null,
            "right": null,
            "top": null,
            "visibility": null,
            "width": null
          }
        },
        "1336bbc8476a44699d67c97d29bc5a50": {
          "model_module": "@jupyter-widgets/controls",
          "model_name": "DescriptionStyleModel",
          "model_module_version": "1.5.0",
          "state": {
            "_model_module": "@jupyter-widgets/controls",
            "_model_module_version": "1.5.0",
            "_model_name": "DescriptionStyleModel",
            "_view_count": null,
            "_view_module": "@jupyter-widgets/base",
            "_view_module_version": "1.2.0",
            "_view_name": "StyleView",
            "description_width": ""
          }
        },
        "67ddce3a730b4b1fa3bdf0baa17f0f4e": {
          "model_module": "@jupyter-widgets/controls",
          "model_name": "HBoxModel",
          "model_module_version": "1.5.0",
          "state": {
            "_dom_classes": [],
            "_model_module": "@jupyter-widgets/controls",
            "_model_module_version": "1.5.0",
            "_model_name": "HBoxModel",
            "_view_count": null,
            "_view_module": "@jupyter-widgets/controls",
            "_view_module_version": "1.5.0",
            "_view_name": "HBoxView",
            "box_style": "",
            "children": [
              "IPY_MODEL_505df52acb3c4338ba7cb320092e7cf8",
              "IPY_MODEL_bda2638eab874341a5a38698ad7dea91",
              "IPY_MODEL_6322f805b63e464b88cc5ce71daa79fe"
            ],
            "layout": "IPY_MODEL_7f4b7a954eb74567a49b890139a8794e"
          }
        },
        "505df52acb3c4338ba7cb320092e7cf8": {
          "model_module": "@jupyter-widgets/controls",
          "model_name": "HTMLModel",
          "model_module_version": "1.5.0",
          "state": {
            "_dom_classes": [],
            "_model_module": "@jupyter-widgets/controls",
            "_model_module_version": "1.5.0",
            "_model_name": "HTMLModel",
            "_view_count": null,
            "_view_module": "@jupyter-widgets/controls",
            "_view_module_version": "1.5.0",
            "_view_name": "HTMLView",
            "description": "",
            "description_tooltip": null,
            "layout": "IPY_MODEL_87655ea378d04dffab8883af33c34a99",
            "placeholder": "​",
            "style": "IPY_MODEL_0eda0aea4b6b4a95aef6488169338d44",
            "value": "tokenizer.json: 100%"
          }
        },
        "bda2638eab874341a5a38698ad7dea91": {
          "model_module": "@jupyter-widgets/controls",
          "model_name": "FloatProgressModel",
          "model_module_version": "1.5.0",
          "state": {
            "_dom_classes": [],
            "_model_module": "@jupyter-widgets/controls",
            "_model_module_version": "1.5.0",
            "_model_name": "FloatProgressModel",
            "_view_count": null,
            "_view_module": "@jupyter-widgets/controls",
            "_view_module_version": "1.5.0",
            "_view_name": "ProgressView",
            "bar_style": "success",
            "description": "",
            "description_tooltip": null,
            "layout": "IPY_MODEL_723f44b1df7147cc9f269378f31320db",
            "max": 1355256,
            "min": 0,
            "orientation": "horizontal",
            "style": "IPY_MODEL_bb2dbdc974ed4494b8aeeb4e09216608",
            "value": 1355256
          }
        },
        "6322f805b63e464b88cc5ce71daa79fe": {
          "model_module": "@jupyter-widgets/controls",
          "model_name": "HTMLModel",
          "model_module_version": "1.5.0",
          "state": {
            "_dom_classes": [],
            "_model_module": "@jupyter-widgets/controls",
            "_model_module_version": "1.5.0",
            "_model_name": "HTMLModel",
            "_view_count": null,
            "_view_module": "@jupyter-widgets/controls",
            "_view_module_version": "1.5.0",
            "_view_name": "HTMLView",
            "description": "",
            "description_tooltip": null,
            "layout": "IPY_MODEL_00b17f9d3d8f4c99b74462bdd40d84ad",
            "placeholder": "​",
            "style": "IPY_MODEL_652162e0f5b848b0aa528e43748bcf99",
            "value": " 1.36M/1.36M [00:00&lt;00:00, 6.69MB/s]"
          }
        },
        "7f4b7a954eb74567a49b890139a8794e": {
          "model_module": "@jupyter-widgets/base",
          "model_name": "LayoutModel",
          "model_module_version": "1.2.0",
          "state": {
            "_model_module": "@jupyter-widgets/base",
            "_model_module_version": "1.2.0",
            "_model_name": "LayoutModel",
            "_view_count": null,
            "_view_module": "@jupyter-widgets/base",
            "_view_module_version": "1.2.0",
            "_view_name": "LayoutView",
            "align_content": null,
            "align_items": null,
            "align_self": null,
            "border": null,
            "bottom": null,
            "display": null,
            "flex": null,
            "flex_flow": null,
            "grid_area": null,
            "grid_auto_columns": null,
            "grid_auto_flow": null,
            "grid_auto_rows": null,
            "grid_column": null,
            "grid_gap": null,
            "grid_row": null,
            "grid_template_areas": null,
            "grid_template_columns": null,
            "grid_template_rows": null,
            "height": null,
            "justify_content": null,
            "justify_items": null,
            "left": null,
            "margin": null,
            "max_height": null,
            "max_width": null,
            "min_height": null,
            "min_width": null,
            "object_fit": null,
            "object_position": null,
            "order": null,
            "overflow": null,
            "overflow_x": null,
            "overflow_y": null,
            "padding": null,
            "right": null,
            "top": null,
            "visibility": null,
            "width": null
          }
        },
        "87655ea378d04dffab8883af33c34a99": {
          "model_module": "@jupyter-widgets/base",
          "model_name": "LayoutModel",
          "model_module_version": "1.2.0",
          "state": {
            "_model_module": "@jupyter-widgets/base",
            "_model_module_version": "1.2.0",
            "_model_name": "LayoutModel",
            "_view_count": null,
            "_view_module": "@jupyter-widgets/base",
            "_view_module_version": "1.2.0",
            "_view_name": "LayoutView",
            "align_content": null,
            "align_items": null,
            "align_self": null,
            "border": null,
            "bottom": null,
            "display": null,
            "flex": null,
            "flex_flow": null,
            "grid_area": null,
            "grid_auto_columns": null,
            "grid_auto_flow": null,
            "grid_auto_rows": null,
            "grid_column": null,
            "grid_gap": null,
            "grid_row": null,
            "grid_template_areas": null,
            "grid_template_columns": null,
            "grid_template_rows": null,
            "height": null,
            "justify_content": null,
            "justify_items": null,
            "left": null,
            "margin": null,
            "max_height": null,
            "max_width": null,
            "min_height": null,
            "min_width": null,
            "object_fit": null,
            "object_position": null,
            "order": null,
            "overflow": null,
            "overflow_x": null,
            "overflow_y": null,
            "padding": null,
            "right": null,
            "top": null,
            "visibility": null,
            "width": null
          }
        },
        "0eda0aea4b6b4a95aef6488169338d44": {
          "model_module": "@jupyter-widgets/controls",
          "model_name": "DescriptionStyleModel",
          "model_module_version": "1.5.0",
          "state": {
            "_model_module": "@jupyter-widgets/controls",
            "_model_module_version": "1.5.0",
            "_model_name": "DescriptionStyleModel",
            "_view_count": null,
            "_view_module": "@jupyter-widgets/base",
            "_view_module_version": "1.2.0",
            "_view_name": "StyleView",
            "description_width": ""
          }
        },
        "723f44b1df7147cc9f269378f31320db": {
          "model_module": "@jupyter-widgets/base",
          "model_name": "LayoutModel",
          "model_module_version": "1.2.0",
          "state": {
            "_model_module": "@jupyter-widgets/base",
            "_model_module_version": "1.2.0",
            "_model_name": "LayoutModel",
            "_view_count": null,
            "_view_module": "@jupyter-widgets/base",
            "_view_module_version": "1.2.0",
            "_view_name": "LayoutView",
            "align_content": null,
            "align_items": null,
            "align_self": null,
            "border": null,
            "bottom": null,
            "display": null,
            "flex": null,
            "flex_flow": null,
            "grid_area": null,
            "grid_auto_columns": null,
            "grid_auto_flow": null,
            "grid_auto_rows": null,
            "grid_column": null,
            "grid_gap": null,
            "grid_row": null,
            "grid_template_areas": null,
            "grid_template_columns": null,
            "grid_template_rows": null,
            "height": null,
            "justify_content": null,
            "justify_items": null,
            "left": null,
            "margin": null,
            "max_height": null,
            "max_width": null,
            "min_height": null,
            "min_width": null,
            "object_fit": null,
            "object_position": null,
            "order": null,
            "overflow": null,
            "overflow_x": null,
            "overflow_y": null,
            "padding": null,
            "right": null,
            "top": null,
            "visibility": null,
            "width": null
          }
        },
        "bb2dbdc974ed4494b8aeeb4e09216608": {
          "model_module": "@jupyter-widgets/controls",
          "model_name": "ProgressStyleModel",
          "model_module_version": "1.5.0",
          "state": {
            "_model_module": "@jupyter-widgets/controls",
            "_model_module_version": "1.5.0",
            "_model_name": "ProgressStyleModel",
            "_view_count": null,
            "_view_module": "@jupyter-widgets/base",
            "_view_module_version": "1.2.0",
            "_view_name": "StyleView",
            "bar_color": null,
            "description_width": ""
          }
        },
        "00b17f9d3d8f4c99b74462bdd40d84ad": {
          "model_module": "@jupyter-widgets/base",
          "model_name": "LayoutModel",
          "model_module_version": "1.2.0",
          "state": {
            "_model_module": "@jupyter-widgets/base",
            "_model_module_version": "1.2.0",
            "_model_name": "LayoutModel",
            "_view_count": null,
            "_view_module": "@jupyter-widgets/base",
            "_view_module_version": "1.2.0",
            "_view_name": "LayoutView",
            "align_content": null,
            "align_items": null,
            "align_self": null,
            "border": null,
            "bottom": null,
            "display": null,
            "flex": null,
            "flex_flow": null,
            "grid_area": null,
            "grid_auto_columns": null,
            "grid_auto_flow": null,
            "grid_auto_rows": null,
            "grid_column": null,
            "grid_gap": null,
            "grid_row": null,
            "grid_template_areas": null,
            "grid_template_columns": null,
            "grid_template_rows": null,
            "height": null,
            "justify_content": null,
            "justify_items": null,
            "left": null,
            "margin": null,
            "max_height": null,
            "max_width": null,
            "min_height": null,
            "min_width": null,
            "object_fit": null,
            "object_position": null,
            "order": null,
            "overflow": null,
            "overflow_x": null,
            "overflow_y": null,
            "padding": null,
            "right": null,
            "top": null,
            "visibility": null,
            "width": null
          }
        },
        "652162e0f5b848b0aa528e43748bcf99": {
          "model_module": "@jupyter-widgets/controls",
          "model_name": "DescriptionStyleModel",
          "model_module_version": "1.5.0",
          "state": {
            "_model_module": "@jupyter-widgets/controls",
            "_model_module_version": "1.5.0",
            "_model_name": "DescriptionStyleModel",
            "_view_count": null,
            "_view_module": "@jupyter-widgets/base",
            "_view_module_version": "1.2.0",
            "_view_name": "StyleView",
            "description_width": ""
          }
        }
      }
    }
  },
  "nbformat": 4,
  "nbformat_minor": 0
}